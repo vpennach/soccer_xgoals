{
  "cells": [
    {
      "metadata": {
        "id": "1a1ab5ccdb9da796"
      },
      "cell_type": "code",
      "outputs": [],
      "execution_count": null,
      "source": [
        "#!pip install pandas numpy matplotlib seaborn  scikit-learn"
      ],
      "id": "1a1ab5ccdb9da796"
    },
    {
      "cell_type": "code",
      "source": [
        "!pip install mplsoccer"
      ],
      "metadata": {
        "colab": {
          "base_uri": "https://localhost:8080/"
        },
        "collapsed": true,
        "id": "EwSLscEWd12r",
        "outputId": "69115416-bbb1-418a-80c4-4833dd282ebc"
      },
      "id": "EwSLscEWd12r",
      "execution_count": null,
      "outputs": [
        {
          "output_type": "stream",
          "name": "stdout",
          "text": [
            "Collecting mplsoccer\n",
            "  Downloading mplsoccer-1.5.1-py3-none-any.whl.metadata (4.8 kB)\n",
            "Requirement already satisfied: matplotlib>=3.6 in /usr/local/lib/python3.12/dist-packages (from mplsoccer) (3.10.0)\n",
            "Requirement already satisfied: numpy in /usr/local/lib/python3.12/dist-packages (from mplsoccer) (2.0.2)\n",
            "Requirement already satisfied: pandas in /usr/local/lib/python3.12/dist-packages (from mplsoccer) (2.2.2)\n",
            "Requirement already satisfied: pillow in /usr/local/lib/python3.12/dist-packages (from mplsoccer) (11.3.0)\n",
            "Requirement already satisfied: requests in /usr/local/lib/python3.12/dist-packages (from mplsoccer) (2.32.4)\n",
            "Requirement already satisfied: scipy in /usr/local/lib/python3.12/dist-packages (from mplsoccer) (1.16.2)\n",
            "Requirement already satisfied: seaborn in /usr/local/lib/python3.12/dist-packages (from mplsoccer) (0.13.2)\n",
            "Requirement already satisfied: contourpy>=1.0.1 in /usr/local/lib/python3.12/dist-packages (from matplotlib>=3.6->mplsoccer) (1.3.3)\n",
            "Requirement already satisfied: cycler>=0.10 in /usr/local/lib/python3.12/dist-packages (from matplotlib>=3.6->mplsoccer) (0.12.1)\n",
            "Requirement already satisfied: fonttools>=4.22.0 in /usr/local/lib/python3.12/dist-packages (from matplotlib>=3.6->mplsoccer) (4.60.1)\n",
            "Requirement already satisfied: kiwisolver>=1.3.1 in /usr/local/lib/python3.12/dist-packages (from matplotlib>=3.6->mplsoccer) (1.4.9)\n",
            "Requirement already satisfied: packaging>=20.0 in /usr/local/lib/python3.12/dist-packages (from matplotlib>=3.6->mplsoccer) (25.0)\n",
            "Requirement already satisfied: pyparsing>=2.3.1 in /usr/local/lib/python3.12/dist-packages (from matplotlib>=3.6->mplsoccer) (3.2.5)\n",
            "Requirement already satisfied: python-dateutil>=2.7 in /usr/local/lib/python3.12/dist-packages (from matplotlib>=3.6->mplsoccer) (2.9.0.post0)\n",
            "Requirement already satisfied: pytz>=2020.1 in /usr/local/lib/python3.12/dist-packages (from pandas->mplsoccer) (2025.2)\n",
            "Requirement already satisfied: tzdata>=2022.7 in /usr/local/lib/python3.12/dist-packages (from pandas->mplsoccer) (2025.2)\n",
            "Requirement already satisfied: charset_normalizer<4,>=2 in /usr/local/lib/python3.12/dist-packages (from requests->mplsoccer) (3.4.3)\n",
            "Requirement already satisfied: idna<4,>=2.5 in /usr/local/lib/python3.12/dist-packages (from requests->mplsoccer) (3.10)\n",
            "Requirement already satisfied: urllib3<3,>=1.21.1 in /usr/local/lib/python3.12/dist-packages (from requests->mplsoccer) (2.5.0)\n",
            "Requirement already satisfied: certifi>=2017.4.17 in /usr/local/lib/python3.12/dist-packages (from requests->mplsoccer) (2025.8.3)\n",
            "Requirement already satisfied: six>=1.5 in /usr/local/lib/python3.12/dist-packages (from python-dateutil>=2.7->matplotlib>=3.6->mplsoccer) (1.17.0)\n",
            "Downloading mplsoccer-1.5.1-py3-none-any.whl (86 kB)\n",
            "\u001b[2K   \u001b[90m━━━━━━━━━━━━━━━━━━━━━━━━━━━━━━━━━━━━━━━━\u001b[0m \u001b[32m86.4/86.4 kB\u001b[0m \u001b[31m2.4 MB/s\u001b[0m eta \u001b[36m0:00:00\u001b[0m\n",
            "\u001b[?25hInstalling collected packages: mplsoccer\n",
            "Successfully installed mplsoccer-1.5.1\n"
          ]
        }
      ]
    },
    {
      "cell_type": "code",
      "source": [
        "!pip install statsbombpy"
      ],
      "metadata": {
        "colab": {
          "base_uri": "https://localhost:8080/"
        },
        "collapsed": true,
        "id": "JF4sgWXKdmE5",
        "outputId": "81bdedd5-cf14-4a11-962d-edbef4e30d01"
      },
      "id": "JF4sgWXKdmE5",
      "execution_count": null,
      "outputs": [
        {
          "output_type": "stream",
          "name": "stdout",
          "text": [
            "Collecting statsbombpy\n",
            "  Downloading statsbombpy-1.16.0-py3-none-any.whl.metadata (63 kB)\n",
            "\u001b[2K     \u001b[90m━━━━━━━━━━━━━━━━━━━━━━━━━━━━━━━━━━━━━━━━\u001b[0m \u001b[32m63.7/63.7 kB\u001b[0m \u001b[31m1.1 MB/s\u001b[0m eta \u001b[36m0:00:00\u001b[0m\n",
            "\u001b[?25hRequirement already satisfied: pandas in /usr/local/lib/python3.12/dist-packages (from statsbombpy) (2.2.2)\n",
            "Requirement already satisfied: requests in /usr/local/lib/python3.12/dist-packages (from statsbombpy) (2.32.4)\n",
            "Collecting requests-cache (from statsbombpy)\n",
            "  Downloading requests_cache-1.2.1-py3-none-any.whl.metadata (9.9 kB)\n",
            "Requirement already satisfied: inflect in /usr/local/lib/python3.12/dist-packages (from statsbombpy) (7.5.0)\n",
            "Requirement already satisfied: joblib in /usr/local/lib/python3.12/dist-packages (from statsbombpy) (1.5.2)\n",
            "Requirement already satisfied: more_itertools>=8.5.0 in /usr/local/lib/python3.12/dist-packages (from inflect->statsbombpy) (10.8.0)\n",
            "Requirement already satisfied: typeguard>=4.0.1 in /usr/local/lib/python3.12/dist-packages (from inflect->statsbombpy) (4.4.4)\n",
            "Requirement already satisfied: numpy>=1.26.0 in /usr/local/lib/python3.12/dist-packages (from pandas->statsbombpy) (2.0.2)\n",
            "Requirement already satisfied: python-dateutil>=2.8.2 in /usr/local/lib/python3.12/dist-packages (from pandas->statsbombpy) (2.9.0.post0)\n",
            "Requirement already satisfied: pytz>=2020.1 in /usr/local/lib/python3.12/dist-packages (from pandas->statsbombpy) (2025.2)\n",
            "Requirement already satisfied: tzdata>=2022.7 in /usr/local/lib/python3.12/dist-packages (from pandas->statsbombpy) (2025.2)\n",
            "Requirement already satisfied: charset_normalizer<4,>=2 in /usr/local/lib/python3.12/dist-packages (from requests->statsbombpy) (3.4.3)\n",
            "Requirement already satisfied: idna<4,>=2.5 in /usr/local/lib/python3.12/dist-packages (from requests->statsbombpy) (3.10)\n",
            "Requirement already satisfied: urllib3<3,>=1.21.1 in /usr/local/lib/python3.12/dist-packages (from requests->statsbombpy) (2.5.0)\n",
            "Requirement already satisfied: certifi>=2017.4.17 in /usr/local/lib/python3.12/dist-packages (from requests->statsbombpy) (2025.8.3)\n",
            "Requirement already satisfied: attrs>=21.2 in /usr/local/lib/python3.12/dist-packages (from requests-cache->statsbombpy) (25.3.0)\n",
            "Collecting cattrs>=22.2 (from requests-cache->statsbombpy)\n",
            "  Downloading cattrs-25.2.0-py3-none-any.whl.metadata (8.4 kB)\n",
            "Requirement already satisfied: platformdirs>=2.5 in /usr/local/lib/python3.12/dist-packages (from requests-cache->statsbombpy) (4.4.0)\n",
            "Collecting url-normalize>=1.4 (from requests-cache->statsbombpy)\n",
            "  Downloading url_normalize-2.2.1-py3-none-any.whl.metadata (5.6 kB)\n",
            "Requirement already satisfied: typing-extensions>=4.12.2 in /usr/local/lib/python3.12/dist-packages (from cattrs>=22.2->requests-cache->statsbombpy) (4.15.0)\n",
            "Requirement already satisfied: six>=1.5 in /usr/local/lib/python3.12/dist-packages (from python-dateutil>=2.8.2->pandas->statsbombpy) (1.17.0)\n",
            "Downloading statsbombpy-1.16.0-py3-none-any.whl (16 kB)\n",
            "Downloading requests_cache-1.2.1-py3-none-any.whl (61 kB)\n",
            "\u001b[2K   \u001b[90m━━━━━━━━━━━━━━━━━━━━━━━━━━━━━━━━━━━━━━━━\u001b[0m \u001b[32m61.4/61.4 kB\u001b[0m \u001b[31m1.2 MB/s\u001b[0m eta \u001b[36m0:00:00\u001b[0m\n",
            "\u001b[?25hDownloading cattrs-25.2.0-py3-none-any.whl (70 kB)\n",
            "\u001b[2K   \u001b[90m━━━━━━━━━━━━━━━━━━━━━━━━━━━━━━━━━━━━━━━━\u001b[0m \u001b[32m70.0/70.0 kB\u001b[0m \u001b[31m1.9 MB/s\u001b[0m eta \u001b[36m0:00:00\u001b[0m\n",
            "\u001b[?25hDownloading url_normalize-2.2.1-py3-none-any.whl (14 kB)\n",
            "Installing collected packages: url-normalize, cattrs, requests-cache, statsbombpy\n",
            "Successfully installed cattrs-25.2.0 requests-cache-1.2.1 statsbombpy-1.16.0 url-normalize-2.2.1\n"
          ]
        }
      ]
    },
    {
      "metadata": {
        "ExecuteTime": {
          "end_time": "2025-01-28T13:56:24.991162Z",
          "start_time": "2025-01-28T13:56:24.965129Z"
        },
        "id": "be2620955ce29942"
      },
      "cell_type": "code",
      "outputs": [],
      "execution_count": null,
      "source": [
        "import pandas as pd\n",
        "import numpy as np\n",
        "from statsbombpy import sb  # Main module for fetching data\n",
        "import pandas as pd\n",
        "import numpy as np\n",
        "import matplotlib.pyplot as plt\n",
        "from mplsoccer import Pitch  # For pitch visualizations\n",
        "from sklearn.model_selection import train_test_split, GridSearchCV\n",
        "from sklearn.linear_model import LogisticRegression\n",
        "from sklearn.metrics import roc_auc_score, log_loss, brier_score_loss, classification_report\n",
        "import time"
      ],
      "id": "be2620955ce29942"
    },
    {
      "metadata": {
        "ExecuteTime": {
          "end_time": "2025-01-28T13:56:25.015629Z",
          "start_time": "2025-01-28T13:56:25.002548Z"
        },
        "colab": {
          "base_uri": "https://localhost:8080/"
        },
        "collapsed": true,
        "id": "701ddc7b4e02a31e",
        "outputId": "a89d7c59-930b-470a-8ccd-6e909fbd7d7b"
      },
      "cell_type": "code",
      "source": [
        "competitions = sb.competitions()\n",
        "print(competitions.head())  # Preview first few\n",
        "print(competitions.shape)   # How many comps?\n",
        "print(competitions.columns) # What info per comp?"
      ],
      "id": "701ddc7b4e02a31e",
      "outputs": [
        {
          "output_type": "stream",
          "name": "stdout",
          "text": [
            "   competition_id  season_id country_name        competition_name  \\\n",
            "0               9        281      Germany           1. Bundesliga   \n",
            "1               9         27      Germany           1. Bundesliga   \n",
            "2            1267        107       Africa  African Cup of Nations   \n",
            "3              16          4       Europe        Champions League   \n",
            "4              16          1       Europe        Champions League   \n",
            "\n",
            "  competition_gender  competition_youth  competition_international  \\\n",
            "0               male              False                      False   \n",
            "1               male              False                      False   \n",
            "2               male              False                       True   \n",
            "3               male              False                      False   \n",
            "4               male              False                      False   \n",
            "\n",
            "  season_name               match_updated           match_updated_360  \\\n",
            "0   2023/2024  2024-09-28T20:46:38.893391  2025-07-06T04:26:07.636270   \n",
            "1   2015/2016  2024-05-19T11:11:14.192381                        None   \n",
            "2        2023  2024-09-28T01:57:35.846538                        None   \n",
            "3   2018/2019  2025-05-08T15:10:50.835274     2021-06-13T16:17:31.694   \n",
            "4   2017/2018  2024-02-13T02:35:28.134882     2021-06-13T16:17:31.694   \n",
            "\n",
            "          match_available_360             match_available  \n",
            "0  2025-07-06T04:26:07.636270  2024-09-28T20:46:38.893391  \n",
            "1                        None  2024-05-19T11:11:14.192381  \n",
            "2                        None  2024-09-28T01:57:35.846538  \n",
            "3                        None  2025-05-08T15:10:50.835274  \n",
            "4                        None  2024-02-13T02:35:28.134882  \n",
            "(75, 12)\n",
            "Index(['competition_id', 'season_id', 'country_name', 'competition_name',\n",
            "       'competition_gender', 'competition_youth', 'competition_international',\n",
            "       'season_name', 'match_updated', 'match_updated_360',\n",
            "       'match_available_360', 'match_available'],\n",
            "      dtype='object')\n"
          ]
        }
      ],
      "execution_count": null
    },
    {
      "metadata": {
        "ExecuteTime": {
          "end_time": "2025-01-28T13:56:25.200917Z",
          "start_time": "2025-01-28T13:56:25.198299Z"
        },
        "colab": {
          "base_uri": "https://localhost:8080/"
        },
        "collapsed": true,
        "id": "fd9dd4bd028014b8",
        "outputId": "b729bf7b-b23a-43e0-ee44-f38cf6046486"
      },
      "cell_type": "code",
      "source": [
        "# Explore unique values\n",
        "print(competitions['competition_gender'].unique())  # Genders available\n",
        "print(competitions['competition_name'].unique())  # List of comp names\n",
        "print(competitions.groupby('competition_gender').size())  # Count per gender"
      ],
      "id": "fd9dd4bd028014b8",
      "outputs": [
        {
          "output_type": "stream",
          "name": "stdout",
          "text": [
            "['male' 'female']\n",
            "['1. Bundesliga' 'African Cup of Nations' 'Champions League'\n",
            " 'Copa America' 'Copa del Rey' \"FA Women's Super League\"\n",
            " 'FIFA U20 World Cup' 'FIFA World Cup' 'Indian Super league' 'La Liga'\n",
            " 'Liga Profesional' 'Ligue 1' 'Major League Soccer'\n",
            " 'North American League' 'NWSL' 'Premier League' 'Serie A' 'UEFA Euro'\n",
            " 'UEFA Europa League' \"UEFA Women's Euro\" \"Women's World Cup\"]\n",
            "competition_gender\n",
            "female     8\n",
            "male      67\n",
            "dtype: int64\n"
          ]
        }
      ],
      "execution_count": null
    },
    {
      "metadata": {
        "ExecuteTime": {
          "end_time": "2025-01-28T13:56:25.681637Z",
          "start_time": "2025-01-28T13:56:25.679054Z"
        },
        "colab": {
          "base_uri": "https://localhost:8080/"
        },
        "collapsed": true,
        "id": "1e5f38c81b85b04",
        "outputId": "0f63c2be-62b9-4cc6-9bc3-60b8e6953ef1"
      },
      "cell_type": "code",
      "source": [
        "womens_comps = competitions[competitions['competition_gender'] == 'female']\n",
        "print(womens_comps[['competition_id', 'season_id', 'competition_name', 'season_name']])  # Key details\n",
        "print(womens_comps.shape)  # How many women's comp/seasons"
      ],
      "id": "1e5f38c81b85b04",
      "outputs": [
        {
          "output_type": "stream",
          "name": "stdout",
          "text": [
            "    competition_id  season_id         competition_name season_name\n",
            "25              37         90  FA Women's Super League   2020/2021\n",
            "26              37         42  FA Women's Super League   2019/2020\n",
            "27              37          4  FA Women's Super League   2018/2019\n",
            "63              49          3                     NWSL        2018\n",
            "71              53        315        UEFA Women's Euro        2025\n",
            "72              53        106        UEFA Women's Euro        2022\n",
            "73              72        107        Women's World Cup        2023\n",
            "74              72         30        Women's World Cup        2019\n",
            "(8, 12)\n"
          ]
        }
      ],
      "execution_count": null
    },
    {
      "metadata": {
        "ExecuteTime": {
          "end_time": "2025-01-28T13:56:26.381871Z",
          "start_time": "2025-01-28T13:56:26.378310Z"
        },
        "colab": {
          "base_uri": "https://localhost:8080/"
        },
        "collapsed": true,
        "id": "386c2985d20dab79",
        "outputId": "dbe2bdbf-60f2-4478-c23d-a08646a2bef9"
      },
      "cell_type": "code",
      "source": [
        "# Get matches for a specific women's comp/season (e.g., Women's World Cup 2023)\n",
        "comp_id = 72  # Change as needed\n",
        "season_id = 107\n",
        "matches = sb.matches(competition_id=comp_id, season_id=season_id)\n",
        "print(matches.head())  # Preview\n",
        "print(matches.shape)   # How many matches?\n",
        "print(matches.columns) # Info like teams, scores, date"
      ],
      "id": "386c2985d20dab79",
      "outputs": [
        {
          "output_type": "stream",
          "name": "stdout",
          "text": [
            "   match_id  match_date      kick_off                        competition  \\\n",
            "0   3904629  2023-08-16  13:00:00.000  International - Women's World Cup   \n",
            "1   3906390  2023-08-20  13:00:00.000  International - Women's World Cup   \n",
            "2   3906389  2023-08-19  11:00:00.000  International - Women's World Cup   \n",
            "3   3904628  2023-08-15  11:00:00.000  International - Women's World Cup   \n",
            "4   3893806  2023-07-26  10:30:00.000  International - Women's World Cup   \n",
            "\n",
            "  season          home_team          away_team  home_score  away_score  \\\n",
            "0   2023  Australia Women's    England Women's           1           3   \n",
            "1   2023      Spain Women's    England Women's           1           0   \n",
            "2   2023     Sweden Women's  Australia Women's           2           0   \n",
            "3   2023      Spain Women's     Sweden Women's           2           1   \n",
            "4   2023      Spain Women's     Zambia Women's           5           0   \n",
            "\n",
            "  match_status  ...            last_updated_360 match_week competition_stage  \\\n",
            "0    available  ...  2023-08-30T11:17:47.551826          6       Semi-finals   \n",
            "1    available  ...  2023-08-22T19:38:43.965521          7             Final   \n",
            "2    available  ...  2023-08-29T21:19:57.035390          7   3rd Place Final   \n",
            "3    available  ...  2023-08-16T11:30:31.556462          6       Semi-finals   \n",
            "4    available  ...  2023-08-15T02:58:57.266594          2       Group Stage   \n",
            "\n",
            "            stadium              referee      home_managers  \\\n",
            "0     Accor Stadium           Tori Penso    Tony Gustavsson   \n",
            "1     Accor Stadium           Tori Penso        Jorge Vilda   \n",
            "2  Brisbane Stadium        Cheryl Foster  Peter Gerhardsson   \n",
            "3         Eden Park  Edina Alves Batista        Jorge Vilda   \n",
            "4         Eden Park       Hyeon-Jeong Oh        Jorge Vilda   \n",
            "\n",
            "              away_managers data_version shot_fidelity_version  \\\n",
            "0  Sarina Glotzbach-Wiegman        1.1.0                     2   \n",
            "1  Sarina Glotzbach-Wiegman        1.1.0                     2   \n",
            "2           Tony Gustavsson        1.1.0                     2   \n",
            "3         Peter Gerhardsson        1.1.0                     2   \n",
            "4               Bruce Mwape        1.1.0                     2   \n",
            "\n",
            "  xy_fidelity_version  \n",
            "0                   2  \n",
            "1                   2  \n",
            "2                   2  \n",
            "3                   2  \n",
            "4                   2  \n",
            "\n",
            "[5 rows x 22 columns]\n",
            "(64, 22)\n",
            "Index(['match_id', 'match_date', 'kick_off', 'competition', 'season',\n",
            "       'home_team', 'away_team', 'home_score', 'away_score', 'match_status',\n",
            "       'match_status_360', 'last_updated', 'last_updated_360', 'match_week',\n",
            "       'competition_stage', 'stadium', 'referee', 'home_managers',\n",
            "       'away_managers', 'data_version', 'shot_fidelity_version',\n",
            "       'xy_fidelity_version'],\n",
            "      dtype='object')\n"
          ]
        }
      ],
      "execution_count": null
    },
    {
      "metadata": {
        "ExecuteTime": {
          "end_time": "2025-01-28T13:56:26.996978Z",
          "start_time": "2025-01-28T13:56:26.982930Z"
        },
        "colab": {
          "base_uri": "https://localhost:8080/"
        },
        "collapsed": true,
        "id": "c02a9fe14c6bf0e9",
        "outputId": "a89c682a-81bf-4a6e-b61f-6dc0578e7a01"
      },
      "cell_type": "code",
      "source": [
        "# Get events for one match (pick a match_id from above, e.g., first one)\n",
        "match_id = matches['match_id'].iloc[0]  # First match\n",
        "events = sb.events(match_id=match_id)\n",
        "print(events.head())  # Preview\n",
        "print(events.shape)   # How many events per match?\n",
        "print(events['type'].value_counts())  # Common event types (e.g., Pass, Shot)"
      ],
      "id": "c02a9fe14c6bf0e9",
      "outputs": [
        {
          "output_type": "stream",
          "name": "stdout",
          "text": [
            "  50_50 bad_behaviour_card ball_receipt_outcome  \\\n",
            "0   NaN                NaN                  NaN   \n",
            "1   NaN                NaN                  NaN   \n",
            "2   NaN                NaN                  NaN   \n",
            "3   NaN                NaN                  NaN   \n",
            "4   NaN                NaN                  NaN   \n",
            "\n",
            "  ball_recovery_recovery_failure block_deflection carry_end_location  \\\n",
            "0                            NaN              NaN                NaN   \n",
            "1                            NaN              NaN                NaN   \n",
            "2                            NaN              NaN                NaN   \n",
            "3                            NaN              NaN                NaN   \n",
            "4                            NaN              NaN                NaN   \n",
            "\n",
            "  clearance_aerial_won clearance_body_part clearance_head clearance_left_foot  \\\n",
            "0                  NaN                 NaN            NaN                 NaN   \n",
            "1                  NaN                 NaN            NaN                 NaN   \n",
            "2                  NaN                 NaN            NaN                 NaN   \n",
            "3                  NaN                 NaN            NaN                 NaN   \n",
            "4                  NaN                 NaN            NaN                 NaN   \n",
            "\n",
            "   ... substitution_outcome substitution_outcome_id substitution_replacement  \\\n",
            "0  ...                  NaN                     NaN                      NaN   \n",
            "1  ...                  NaN                     NaN                      NaN   \n",
            "2  ...                  NaN                     NaN                      NaN   \n",
            "3  ...                  NaN                     NaN                      NaN   \n",
            "4  ...                  NaN                     NaN                      NaN   \n",
            "\n",
            "  substitution_replacement_id  \\\n",
            "0                         NaN   \n",
            "1                         NaN   \n",
            "2                         NaN   \n",
            "3                         NaN   \n",
            "4                         NaN   \n",
            "\n",
            "                                             tactics               team  \\\n",
            "0  {'formation': 442, 'lineup': [{'player': {'id'...  Australia Women's   \n",
            "1  {'formation': 3412, 'lineup': [{'player': {'id...    England Women's   \n",
            "2                                                NaN    England Women's   \n",
            "3                                                NaN  Australia Women's   \n",
            "4                                                NaN  Australia Women's   \n",
            "\n",
            "   team_id     timestamp         type under_pressure  \n",
            "0     1205  00:00:00.000  Starting XI            NaN  \n",
            "1      865  00:00:00.000  Starting XI            NaN  \n",
            "2      865  00:00:00.000   Half Start            NaN  \n",
            "3     1205  00:00:00.000   Half Start            NaN  \n",
            "4     1205  00:00:00.000   Half Start            NaN  \n",
            "\n",
            "[5 rows x 87 columns]\n",
            "(3159, 87)\n",
            "type\n",
            "Pass               900\n",
            "Ball Receipt*      871\n",
            "Carry              659\n",
            "Pressure           266\n",
            "Ball Recovery       97\n",
            "Duel                82\n",
            "Clearance           41\n",
            "Goal Keeper         33\n",
            "Dispossessed        28\n",
            "Block               28\n",
            "Shot                27\n",
            "Dribble             21\n",
            "Miscontrol          19\n",
            "Foul Committed      18\n",
            "Foul Won            17\n",
            "Dribbled Past       11\n",
            "50/50                8\n",
            "Interception         8\n",
            "Tactical Shift       5\n",
            "Substitution         5\n",
            "Half End             4\n",
            "Half Start           4\n",
            "Starting XI          2\n",
            "Shield               1\n",
            "Injury Stoppage      1\n",
            "Player Off           1\n",
            "Player On            1\n",
            "Bad Behaviour        1\n",
            "Name: count, dtype: int64\n"
          ]
        }
      ],
      "execution_count": null
    },
    {
      "metadata": {
        "ExecuteTime": {
          "end_time": "2025-01-28T13:56:27.756159Z",
          "start_time": "2025-01-28T13:56:27.752521Z"
        },
        "colab": {
          "base_uri": "https://localhost:8080/"
        },
        "collapsed": true,
        "id": "d203dd73ebb45161",
        "outputId": "91476895-f167-47e9-9dfd-4ed44e942d6d"
      },
      "cell_type": "code",
      "source": [
        "# Filter shots from one match's events\n",
        "shots = events[events['type'] == 'Shot']\n",
        "print(shots.head())  # What does a shot look like?\n",
        "print(shots.columns) # Shot-specific columns (e.g., location, outcome, body_part)"
      ],
      "id": "d203dd73ebb45161",
      "outputs": [
        {
          "output_type": "stream",
          "name": "stdout",
          "text": [
            "     50_50 bad_behaviour_card ball_receipt_outcome  \\\n",
            "3072   NaN                NaN                  NaN   \n",
            "3073   NaN                NaN                  NaN   \n",
            "3074   NaN                NaN                  NaN   \n",
            "3075   NaN                NaN                  NaN   \n",
            "3076   NaN                NaN                  NaN   \n",
            "\n",
            "     ball_recovery_recovery_failure block_deflection carry_end_location  \\\n",
            "3072                            NaN              NaN                NaN   \n",
            "3073                            NaN              NaN                NaN   \n",
            "3074                            NaN              NaN                NaN   \n",
            "3075                            NaN              NaN                NaN   \n",
            "3076                            NaN              NaN                NaN   \n",
            "\n",
            "     clearance_aerial_won clearance_body_part clearance_head  \\\n",
            "3072                  NaN                 NaN            NaN   \n",
            "3073                  NaN                 NaN            NaN   \n",
            "3074                  NaN                 NaN            NaN   \n",
            "3075                  NaN                 NaN            NaN   \n",
            "3076                  NaN                 NaN            NaN   \n",
            "\n",
            "     clearance_left_foot  ... substitution_outcome substitution_outcome_id  \\\n",
            "3072                 NaN  ...                  NaN                     NaN   \n",
            "3073                 NaN  ...                  NaN                     NaN   \n",
            "3074                 NaN  ...                  NaN                     NaN   \n",
            "3075                 NaN  ...                  NaN                     NaN   \n",
            "3076                 NaN  ...                  NaN                     NaN   \n",
            "\n",
            "     substitution_replacement substitution_replacement_id tactics  \\\n",
            "3072                      NaN                         NaN     NaN   \n",
            "3073                      NaN                         NaN     NaN   \n",
            "3074                      NaN                         NaN     NaN   \n",
            "3075                      NaN                         NaN     NaN   \n",
            "3076                      NaN                         NaN     NaN   \n",
            "\n",
            "                 team  team_id     timestamp  type under_pressure  \n",
            "3072  England Women's      865  00:08:28.436  Shot           True  \n",
            "3073  England Women's      865  00:09:05.258  Shot           True  \n",
            "3074  England Women's      865  00:09:07.148  Shot            NaN  \n",
            "3075  England Women's      865  00:09:13.157  Shot            NaN  \n",
            "3076  England Women's      865  00:12:39.747  Shot            NaN  \n",
            "\n",
            "[5 rows x 87 columns]\n",
            "Index(['50_50', 'bad_behaviour_card', 'ball_receipt_outcome',\n",
            "       'ball_recovery_recovery_failure', 'block_deflection',\n",
            "       'carry_end_location', 'clearance_aerial_won', 'clearance_body_part',\n",
            "       'clearance_head', 'clearance_left_foot', 'clearance_right_foot',\n",
            "       'counterpress', 'dribble_nutmeg', 'dribble_outcome', 'duel_outcome',\n",
            "       'duel_type', 'duration', 'foul_committed_advantage',\n",
            "       'foul_committed_card', 'foul_committed_type', 'foul_won_advantage',\n",
            "       'foul_won_defensive', 'goalkeeper_body_part', 'goalkeeper_end_location',\n",
            "       'goalkeeper_outcome', 'goalkeeper_position', 'goalkeeper_technique',\n",
            "       'goalkeeper_type', 'id', 'index', 'interception_outcome', 'location',\n",
            "       'match_id', 'minute', 'off_camera', 'out', 'pass_aerial_won',\n",
            "       'pass_angle', 'pass_assisted_shot_id', 'pass_body_part', 'pass_cross',\n",
            "       'pass_end_location', 'pass_goal_assist', 'pass_height',\n",
            "       'pass_inswinging', 'pass_length', 'pass_outcome', 'pass_outswinging',\n",
            "       'pass_recipient', 'pass_recipient_id', 'pass_shot_assist',\n",
            "       'pass_straight', 'pass_switch', 'pass_technique', 'pass_through_ball',\n",
            "       'pass_type', 'period', 'play_pattern', 'player', 'player_id',\n",
            "       'position', 'possession', 'possession_team', 'possession_team_id',\n",
            "       'related_events', 'second', 'shot_aerial_won', 'shot_body_part',\n",
            "       'shot_end_location', 'shot_first_time', 'shot_freeze_frame',\n",
            "       'shot_key_pass_id', 'shot_one_on_one', 'shot_outcome',\n",
            "       'shot_statsbomb_xg', 'shot_technique', 'shot_type',\n",
            "       'substitution_outcome', 'substitution_outcome_id',\n",
            "       'substitution_replacement', 'substitution_replacement_id', 'tactics',\n",
            "       'team', 'team_id', 'timestamp', 'type', 'under_pressure'],\n",
            "      dtype='object')\n"
          ]
        }
      ],
      "execution_count": null
    },
    {
      "metadata": {
        "ExecuteTime": {
          "end_time": "2025-01-28T13:56:29.170946Z",
          "start_time": "2025-01-28T13:56:29.166152Z"
        },
        "colab": {
          "base_uri": "https://localhost:8080/",
          "height": 349
        },
        "collapsed": true,
        "id": "a42365e4747c092b",
        "outputId": "37f37296-2a04-44bd-b1b5-4cbff1c099a8"
      },
      "cell_type": "code",
      "source": [
        "# Function to fetch shots for all omen competitions\n",
        "def fetch_womens_shots(comp_list):\n",
        "    all_shots = []\n",
        "    for _, comp in comp_list.iterrows():\n",
        "        comp_id = comp['competition_id']\n",
        "        season_id = comp['season_id']\n",
        "        try:\n",
        "            matches = sb.matches(competition_id=comp_id, season_id=season_id)\n",
        "            print(f\"Fetching {matches.shape[0]} matches for {comp['competition_name']} {comp['season_name']}...\")\n",
        "            for match_id in matches['match_id']:\n",
        "                events = sb.events(match_id=match_id)\n",
        "                shots = events[events['type'] == 'Shot'].copy()  # Explicit copy to avoid warning\n",
        "                if not shots.empty:\n",
        "                    shots.loc[:, 'competition_name'] = comp['competition_name']  # Use .loc for assignment\n",
        "                    shots.loc[:, 'season_name'] = comp['season_name']\n",
        "                    all_shots.append(shots)\n",
        "                time.sleep(0.5)  # API politeness\n",
        "        except Exception as e:\n",
        "            print(f\"Error for comp {comp_id}, season {season_id}: {e}\")\n",
        "    return pd.concat(all_shots, ignore_index=True) if all_shots else pd.DataFrame()\n",
        "\n",
        "# Fetch shots for a subset of women's comps (e.g., first 2 to test)\n",
        "subset_comps = womens_comps.head(2)  # Adjust to full list later\n",
        "df_shots = fetch_womens_shots(subset_comps)\n",
        "print(f\"Total shots fetched: {df_shots.shape[0]}\")\n",
        "print(df_shots[['minute', 'second', 'location', 'shot_body_part', 'shot_type', 'shot_outcome']].head())\n",
        "\n",
        "# Save to CSV\n",
        "df_shots.to_csv('womens_shots_statsbomb.csv', index=False)"
      ],
      "id": "a42365e4747c092b",
      "outputs": [
        {
          "output_type": "stream",
          "name": "stdout",
          "text": [
            "Fetching 131 matches for FA Women's Super League 2020/2021...\n"
          ]
        },
        {
          "output_type": "error",
          "ename": "KeyboardInterrupt",
          "evalue": "",
          "traceback": [
            "\u001b[0;31m---------------------------------------------------------------------------\u001b[0m",
            "\u001b[0;31mKeyboardInterrupt\u001b[0m                         Traceback (most recent call last)",
            "\u001b[0;32m/tmp/ipython-input-2977337894.py\u001b[0m in \u001b[0;36m<cell line: 0>\u001b[0;34m()\u001b[0m\n\u001b[1;32m     22\u001b[0m \u001b[0;31m# Fetch shots for a subset of women's comps (e.g., first 2 to test)\u001b[0m\u001b[0;34m\u001b[0m\u001b[0;34m\u001b[0m\u001b[0m\n\u001b[1;32m     23\u001b[0m \u001b[0msubset_comps\u001b[0m \u001b[0;34m=\u001b[0m \u001b[0mwomens_comps\u001b[0m\u001b[0;34m.\u001b[0m\u001b[0mhead\u001b[0m\u001b[0;34m(\u001b[0m\u001b[0;36m2\u001b[0m\u001b[0;34m)\u001b[0m  \u001b[0;31m# Adjust to full list later\u001b[0m\u001b[0;34m\u001b[0m\u001b[0;34m\u001b[0m\u001b[0m\n\u001b[0;32m---> 24\u001b[0;31m \u001b[0mdf_shots\u001b[0m \u001b[0;34m=\u001b[0m \u001b[0mfetch_womens_shots\u001b[0m\u001b[0;34m(\u001b[0m\u001b[0msubset_comps\u001b[0m\u001b[0;34m)\u001b[0m\u001b[0;34m\u001b[0m\u001b[0;34m\u001b[0m\u001b[0m\n\u001b[0m\u001b[1;32m     25\u001b[0m \u001b[0mprint\u001b[0m\u001b[0;34m(\u001b[0m\u001b[0;34mf\"Total shots fetched: {df_shots.shape[0]}\"\u001b[0m\u001b[0;34m)\u001b[0m\u001b[0;34m\u001b[0m\u001b[0;34m\u001b[0m\u001b[0m\n\u001b[1;32m     26\u001b[0m \u001b[0mprint\u001b[0m\u001b[0;34m(\u001b[0m\u001b[0mdf_shots\u001b[0m\u001b[0;34m[\u001b[0m\u001b[0;34m[\u001b[0m\u001b[0;34m'minute'\u001b[0m\u001b[0;34m,\u001b[0m \u001b[0;34m'second'\u001b[0m\u001b[0;34m,\u001b[0m \u001b[0;34m'location'\u001b[0m\u001b[0;34m,\u001b[0m \u001b[0;34m'shot_body_part'\u001b[0m\u001b[0;34m,\u001b[0m \u001b[0;34m'shot_type'\u001b[0m\u001b[0;34m,\u001b[0m \u001b[0;34m'shot_outcome'\u001b[0m\u001b[0;34m]\u001b[0m\u001b[0;34m]\u001b[0m\u001b[0;34m.\u001b[0m\u001b[0mhead\u001b[0m\u001b[0;34m(\u001b[0m\u001b[0;34m)\u001b[0m\u001b[0;34m)\u001b[0m\u001b[0;34m\u001b[0m\u001b[0;34m\u001b[0m\u001b[0m\n",
            "\u001b[0;32m/tmp/ipython-input-2977337894.py\u001b[0m in \u001b[0;36mfetch_womens_shots\u001b[0;34m(comp_list)\u001b[0m\n\u001b[1;32m     15\u001b[0m                     \u001b[0mshots\u001b[0m\u001b[0;34m.\u001b[0m\u001b[0mloc\u001b[0m\u001b[0;34m[\u001b[0m\u001b[0;34m:\u001b[0m\u001b[0;34m,\u001b[0m \u001b[0;34m'season_name'\u001b[0m\u001b[0;34m]\u001b[0m \u001b[0;34m=\u001b[0m \u001b[0mcomp\u001b[0m\u001b[0;34m[\u001b[0m\u001b[0;34m'season_name'\u001b[0m\u001b[0;34m]\u001b[0m\u001b[0;34m\u001b[0m\u001b[0;34m\u001b[0m\u001b[0m\n\u001b[1;32m     16\u001b[0m                     \u001b[0mall_shots\u001b[0m\u001b[0;34m.\u001b[0m\u001b[0mappend\u001b[0m\u001b[0;34m(\u001b[0m\u001b[0mshots\u001b[0m\u001b[0;34m)\u001b[0m\u001b[0;34m\u001b[0m\u001b[0;34m\u001b[0m\u001b[0m\n\u001b[0;32m---> 17\u001b[0;31m                 \u001b[0mtime\u001b[0m\u001b[0;34m.\u001b[0m\u001b[0msleep\u001b[0m\u001b[0;34m(\u001b[0m\u001b[0;36m0.5\u001b[0m\u001b[0;34m)\u001b[0m  \u001b[0;31m# API politeness\u001b[0m\u001b[0;34m\u001b[0m\u001b[0;34m\u001b[0m\u001b[0m\n\u001b[0m\u001b[1;32m     18\u001b[0m         \u001b[0;32mexcept\u001b[0m \u001b[0mException\u001b[0m \u001b[0;32mas\u001b[0m \u001b[0me\u001b[0m\u001b[0;34m:\u001b[0m\u001b[0;34m\u001b[0m\u001b[0;34m\u001b[0m\u001b[0m\n\u001b[1;32m     19\u001b[0m             \u001b[0mprint\u001b[0m\u001b[0;34m(\u001b[0m\u001b[0;34mf\"Error for comp {comp_id}, season {season_id}: {e}\"\u001b[0m\u001b[0;34m)\u001b[0m\u001b[0;34m\u001b[0m\u001b[0;34m\u001b[0m\u001b[0m\n",
            "\u001b[0;31mKeyboardInterrupt\u001b[0m: "
          ]
        }
      ],
      "execution_count": null
    },
    {
      "cell_type": "code",
      "source": [
        "# Mount Google Drive\n",
        "from google.colab import drive\n",
        "drive.mount('/content/drive')\n",
        "\n",
        "# Save CSV to Google Drive (e.g., in 'My Drive' folder)\n",
        "df_shots.to_csv('/content/drive/My Drive/Stevens Analytics/Soccer/womens_shots_statsbomb.csv', index=False)"
      ],
      "metadata": {
        "colab": {
          "base_uri": "https://localhost:8080/",
          "height": 373
        },
        "collapsed": true,
        "id": "A2WoVuDlrmLQ",
        "outputId": "46019ae5-1f78-4eea-d904-bd22329c6802"
      },
      "id": "A2WoVuDlrmLQ",
      "execution_count": null,
      "outputs": [
        {
          "output_type": "stream",
          "name": "stdout",
          "text": [
            "Drive already mounted at /content/drive; to attempt to forcibly remount, call drive.mount(\"/content/drive\", force_remount=True).\n"
          ]
        },
        {
          "output_type": "error",
          "ename": "KeyboardInterrupt",
          "evalue": "",
          "traceback": [
            "\u001b[0;31m---------------------------------------------------------------------------\u001b[0m",
            "\u001b[0;31mKeyboardInterrupt\u001b[0m                         Traceback (most recent call last)",
            "\u001b[0;32m/tmp/ipython-input-1471382338.py\u001b[0m in \u001b[0;36m<cell line: 0>\u001b[0;34m()\u001b[0m\n\u001b[1;32m      4\u001b[0m \u001b[0;34m\u001b[0m\u001b[0m\n\u001b[1;32m      5\u001b[0m \u001b[0;31m# Save CSV to Google Drive (e.g., in 'My Drive' folder)\u001b[0m\u001b[0;34m\u001b[0m\u001b[0;34m\u001b[0m\u001b[0m\n\u001b[0;32m----> 6\u001b[0;31m \u001b[0mdf_shots\u001b[0m\u001b[0;34m.\u001b[0m\u001b[0mto_csv\u001b[0m\u001b[0;34m(\u001b[0m\u001b[0;34m'/content/drive/My Drive/Stevens Analytics/Soccer/womens_shots_statsbomb.csv'\u001b[0m\u001b[0;34m,\u001b[0m \u001b[0mindex\u001b[0m\u001b[0;34m=\u001b[0m\u001b[0;32mFalse\u001b[0m\u001b[0;34m)\u001b[0m\u001b[0;34m\u001b[0m\u001b[0;34m\u001b[0m\u001b[0m\n\u001b[0m",
            "\u001b[0;32m/usr/local/lib/python3.12/dist-packages/pandas/util/_decorators.py\u001b[0m in \u001b[0;36mwrapper\u001b[0;34m(*args, **kwargs)\u001b[0m\n\u001b[1;32m    331\u001b[0m                     \u001b[0mstacklevel\u001b[0m\u001b[0;34m=\u001b[0m\u001b[0mfind_stack_level\u001b[0m\u001b[0;34m(\u001b[0m\u001b[0;34m)\u001b[0m\u001b[0;34m,\u001b[0m\u001b[0;34m\u001b[0m\u001b[0;34m\u001b[0m\u001b[0m\n\u001b[1;32m    332\u001b[0m                 )\n\u001b[0;32m--> 333\u001b[0;31m             \u001b[0;32mreturn\u001b[0m \u001b[0mfunc\u001b[0m\u001b[0;34m(\u001b[0m\u001b[0;34m*\u001b[0m\u001b[0margs\u001b[0m\u001b[0;34m,\u001b[0m \u001b[0;34m**\u001b[0m\u001b[0mkwargs\u001b[0m\u001b[0;34m)\u001b[0m\u001b[0;34m\u001b[0m\u001b[0;34m\u001b[0m\u001b[0m\n\u001b[0m\u001b[1;32m    334\u001b[0m \u001b[0;34m\u001b[0m\u001b[0m\n\u001b[1;32m    335\u001b[0m         \u001b[0;31m# error: \"Callable[[VarArg(Any), KwArg(Any)], Any]\" has no\u001b[0m\u001b[0;34m\u001b[0m\u001b[0;34m\u001b[0m\u001b[0m\n",
            "\u001b[0;32m/usr/local/lib/python3.12/dist-packages/pandas/core/generic.py\u001b[0m in \u001b[0;36mto_csv\u001b[0;34m(self, path_or_buf, sep, na_rep, float_format, columns, header, index, index_label, mode, encoding, compression, quoting, quotechar, lineterminator, chunksize, date_format, doublequote, escapechar, decimal, errors, storage_options)\u001b[0m\n\u001b[1;32m   3965\u001b[0m         )\n\u001b[1;32m   3966\u001b[0m \u001b[0;34m\u001b[0m\u001b[0m\n\u001b[0;32m-> 3967\u001b[0;31m         return DataFrameRenderer(formatter).to_csv(\n\u001b[0m\u001b[1;32m   3968\u001b[0m             \u001b[0mpath_or_buf\u001b[0m\u001b[0;34m,\u001b[0m\u001b[0;34m\u001b[0m\u001b[0;34m\u001b[0m\u001b[0m\n\u001b[1;32m   3969\u001b[0m             \u001b[0mlineterminator\u001b[0m\u001b[0;34m=\u001b[0m\u001b[0mlineterminator\u001b[0m\u001b[0;34m,\u001b[0m\u001b[0;34m\u001b[0m\u001b[0;34m\u001b[0m\u001b[0m\n",
            "\u001b[0;32m/usr/local/lib/python3.12/dist-packages/pandas/io/formats/format.py\u001b[0m in \u001b[0;36mto_csv\u001b[0;34m(self, path_or_buf, encoding, sep, columns, index_label, mode, compression, quoting, quotechar, lineterminator, chunksize, date_format, doublequote, escapechar, errors, storage_options)\u001b[0m\n\u001b[1;32m   1012\u001b[0m             \u001b[0mformatter\u001b[0m\u001b[0;34m=\u001b[0m\u001b[0mself\u001b[0m\u001b[0;34m.\u001b[0m\u001b[0mfmt\u001b[0m\u001b[0;34m,\u001b[0m\u001b[0;34m\u001b[0m\u001b[0;34m\u001b[0m\u001b[0m\n\u001b[1;32m   1013\u001b[0m         )\n\u001b[0;32m-> 1014\u001b[0;31m         \u001b[0mcsv_formatter\u001b[0m\u001b[0;34m.\u001b[0m\u001b[0msave\u001b[0m\u001b[0;34m(\u001b[0m\u001b[0;34m)\u001b[0m\u001b[0;34m\u001b[0m\u001b[0;34m\u001b[0m\u001b[0m\n\u001b[0m\u001b[1;32m   1015\u001b[0m \u001b[0;34m\u001b[0m\u001b[0m\n\u001b[1;32m   1016\u001b[0m         \u001b[0;32mif\u001b[0m \u001b[0mcreated_buffer\u001b[0m\u001b[0;34m:\u001b[0m\u001b[0;34m\u001b[0m\u001b[0;34m\u001b[0m\u001b[0m\n",
            "\u001b[0;32m/usr/local/lib/python3.12/dist-packages/pandas/io/formats/csvs.py\u001b[0m in \u001b[0;36msave\u001b[0;34m(self)\u001b[0m\n\u001b[1;32m    268\u001b[0m             )\n\u001b[1;32m    269\u001b[0m \u001b[0;34m\u001b[0m\u001b[0m\n\u001b[0;32m--> 270\u001b[0;31m             \u001b[0mself\u001b[0m\u001b[0;34m.\u001b[0m\u001b[0m_save\u001b[0m\u001b[0;34m(\u001b[0m\u001b[0;34m)\u001b[0m\u001b[0;34m\u001b[0m\u001b[0;34m\u001b[0m\u001b[0m\n\u001b[0m\u001b[1;32m    271\u001b[0m \u001b[0;34m\u001b[0m\u001b[0m\n\u001b[1;32m    272\u001b[0m     \u001b[0;32mdef\u001b[0m \u001b[0m_save\u001b[0m\u001b[0;34m(\u001b[0m\u001b[0mself\u001b[0m\u001b[0;34m)\u001b[0m \u001b[0;34m->\u001b[0m \u001b[0;32mNone\u001b[0m\u001b[0;34m:\u001b[0m\u001b[0;34m\u001b[0m\u001b[0;34m\u001b[0m\u001b[0m\n",
            "\u001b[0;32m/usr/local/lib/python3.12/dist-packages/pandas/io/formats/csvs.py\u001b[0m in \u001b[0;36m_save\u001b[0;34m(self)\u001b[0m\n\u001b[1;32m    273\u001b[0m         \u001b[0;32mif\u001b[0m \u001b[0mself\u001b[0m\u001b[0;34m.\u001b[0m\u001b[0m_need_to_save_header\u001b[0m\u001b[0;34m:\u001b[0m\u001b[0;34m\u001b[0m\u001b[0;34m\u001b[0m\u001b[0m\n\u001b[1;32m    274\u001b[0m             \u001b[0mself\u001b[0m\u001b[0;34m.\u001b[0m\u001b[0m_save_header\u001b[0m\u001b[0;34m(\u001b[0m\u001b[0;34m)\u001b[0m\u001b[0;34m\u001b[0m\u001b[0;34m\u001b[0m\u001b[0m\n\u001b[0;32m--> 275\u001b[0;31m         \u001b[0mself\u001b[0m\u001b[0;34m.\u001b[0m\u001b[0m_save_body\u001b[0m\u001b[0;34m(\u001b[0m\u001b[0;34m)\u001b[0m\u001b[0;34m\u001b[0m\u001b[0;34m\u001b[0m\u001b[0m\n\u001b[0m\u001b[1;32m    276\u001b[0m \u001b[0;34m\u001b[0m\u001b[0m\n\u001b[1;32m    277\u001b[0m     \u001b[0;32mdef\u001b[0m \u001b[0m_save_header\u001b[0m\u001b[0;34m(\u001b[0m\u001b[0mself\u001b[0m\u001b[0;34m)\u001b[0m \u001b[0;34m->\u001b[0m \u001b[0;32mNone\u001b[0m\u001b[0;34m:\u001b[0m\u001b[0;34m\u001b[0m\u001b[0;34m\u001b[0m\u001b[0m\n",
            "\u001b[0;32m/usr/local/lib/python3.12/dist-packages/pandas/io/formats/csvs.py\u001b[0m in \u001b[0;36m_save_body\u001b[0;34m(self)\u001b[0m\n\u001b[1;32m    311\u001b[0m             \u001b[0;32mif\u001b[0m \u001b[0mstart_i\u001b[0m \u001b[0;34m>=\u001b[0m \u001b[0mend_i\u001b[0m\u001b[0;34m:\u001b[0m\u001b[0;34m\u001b[0m\u001b[0;34m\u001b[0m\u001b[0m\n\u001b[1;32m    312\u001b[0m                 \u001b[0;32mbreak\u001b[0m\u001b[0;34m\u001b[0m\u001b[0;34m\u001b[0m\u001b[0m\n\u001b[0;32m--> 313\u001b[0;31m             \u001b[0mself\u001b[0m\u001b[0;34m.\u001b[0m\u001b[0m_save_chunk\u001b[0m\u001b[0;34m(\u001b[0m\u001b[0mstart_i\u001b[0m\u001b[0;34m,\u001b[0m \u001b[0mend_i\u001b[0m\u001b[0;34m)\u001b[0m\u001b[0;34m\u001b[0m\u001b[0;34m\u001b[0m\u001b[0m\n\u001b[0m\u001b[1;32m    314\u001b[0m \u001b[0;34m\u001b[0m\u001b[0m\n\u001b[1;32m    315\u001b[0m     \u001b[0;32mdef\u001b[0m \u001b[0m_save_chunk\u001b[0m\u001b[0;34m(\u001b[0m\u001b[0mself\u001b[0m\u001b[0;34m,\u001b[0m \u001b[0mstart_i\u001b[0m\u001b[0;34m:\u001b[0m \u001b[0mint\u001b[0m\u001b[0;34m,\u001b[0m \u001b[0mend_i\u001b[0m\u001b[0;34m:\u001b[0m \u001b[0mint\u001b[0m\u001b[0;34m)\u001b[0m \u001b[0;34m->\u001b[0m \u001b[0;32mNone\u001b[0m\u001b[0;34m:\u001b[0m\u001b[0;34m\u001b[0m\u001b[0;34m\u001b[0m\u001b[0m\n",
            "\u001b[0;32m/usr/local/lib/python3.12/dist-packages/pandas/io/formats/csvs.py\u001b[0m in \u001b[0;36m_save_chunk\u001b[0;34m(self, start_i, end_i)\u001b[0m\n\u001b[1;32m    322\u001b[0m \u001b[0;34m\u001b[0m\u001b[0m\n\u001b[1;32m    323\u001b[0m         \u001b[0mix\u001b[0m \u001b[0;34m=\u001b[0m \u001b[0mself\u001b[0m\u001b[0;34m.\u001b[0m\u001b[0mdata_index\u001b[0m\u001b[0;34m[\u001b[0m\u001b[0mslicer\u001b[0m\u001b[0;34m]\u001b[0m\u001b[0;34m.\u001b[0m\u001b[0m_get_values_for_csv\u001b[0m\u001b[0;34m(\u001b[0m\u001b[0;34m**\u001b[0m\u001b[0mself\u001b[0m\u001b[0;34m.\u001b[0m\u001b[0m_number_format\u001b[0m\u001b[0;34m)\u001b[0m\u001b[0;34m\u001b[0m\u001b[0;34m\u001b[0m\u001b[0m\n\u001b[0;32m--> 324\u001b[0;31m         libwriters.write_csv_rows(\n\u001b[0m\u001b[1;32m    325\u001b[0m             \u001b[0mdata\u001b[0m\u001b[0;34m,\u001b[0m\u001b[0;34m\u001b[0m\u001b[0;34m\u001b[0m\u001b[0m\n\u001b[1;32m    326\u001b[0m             \u001b[0mix\u001b[0m\u001b[0;34m,\u001b[0m\u001b[0;34m\u001b[0m\u001b[0;34m\u001b[0m\u001b[0m\n",
            "\u001b[0;32mwriters.pyx\u001b[0m in \u001b[0;36mpandas._libs.writers.write_csv_rows\u001b[0;34m()\u001b[0m\n",
            "\u001b[0;31mKeyboardInterrupt\u001b[0m: "
          ]
        }
      ]
    },
    {
      "cell_type": "code",
      "source": [
        "# Load from Google Drive (if saved there)\n",
        "df_shots = pd.read_csv('/content/drive/My Drive/Stevens Analytics/Soccer/womens_shots_statsbomb.csv')\n",
        "print(df_shots.shape)\n",
        "print(df_shots.head())"
      ],
      "metadata": {
        "colab": {
          "base_uri": "https://localhost:8080/"
        },
        "collapsed": true,
        "id": "0mVk2Ryor_8p",
        "outputId": "158701e2-ad53-4566-d5ad-5c34c9c38d23"
      },
      "id": "0mVk2Ryor_8p",
      "execution_count": null,
      "outputs": [
        {
          "output_type": "stream",
          "name": "stdout",
          "text": [
            "(1918, 119)\n",
            "   50_50  ball_receipt_outcome  ball_recovery_recovery_failure  \\\n",
            "0    NaN                   NaN                             NaN   \n",
            "1    NaN                   NaN                             NaN   \n",
            "2    NaN                   NaN                             NaN   \n",
            "3    NaN                   NaN                             NaN   \n",
            "4    NaN                   NaN                             NaN   \n",
            "\n",
            "   block_deflection  block_offensive  carry_end_location  \\\n",
            "0               NaN              NaN                 NaN   \n",
            "1               NaN              NaN                 NaN   \n",
            "2               NaN              NaN                 NaN   \n",
            "3               NaN              NaN                 NaN   \n",
            "4               NaN              NaN                 NaN   \n",
            "\n",
            "   clearance_aerial_won  clearance_body_part  clearance_head  \\\n",
            "0                   NaN                  NaN             NaN   \n",
            "1                   NaN                  NaN             NaN   \n",
            "2                   NaN                  NaN             NaN   \n",
            "3                   NaN                  NaN             NaN   \n",
            "4                   NaN                  NaN             NaN   \n",
            "\n",
            "   clearance_left_foot  ...  bad_behaviour_card  dribble_no_touch  \\\n",
            "0                  NaN  ...                 NaN               NaN   \n",
            "1                  NaN  ...                 NaN               NaN   \n",
            "2                  NaN  ...                 NaN               NaN   \n",
            "3                  NaN  ...                 NaN               NaN   \n",
            "4                  NaN  ...                 NaN               NaN   \n",
            "\n",
            "   shot_follows_dribble  goalkeeper_saved_to_post  \\\n",
            "0                   NaN                       NaN   \n",
            "1                   NaN                       NaN   \n",
            "2                   NaN                       NaN   \n",
            "3                   NaN                       NaN   \n",
            "4                   NaN                       NaN   \n",
            "\n",
            "   half_start_late_video_start  goalkeeper_shot_saved_to_post  \\\n",
            "0                          NaN                            NaN   \n",
            "1                          NaN                            NaN   \n",
            "2                          NaN                            NaN   \n",
            "3                          NaN                            NaN   \n",
            "4                          NaN                            NaN   \n",
            "\n",
            "   shot_saved_to_post  goalkeeper_lost_out  goalkeeper_lost_in_play  \\\n",
            "0                 NaN                  NaN                      NaN   \n",
            "1                 NaN                  NaN                      NaN   \n",
            "2                 NaN                  NaN                      NaN   \n",
            "3                 NaN                  NaN                      NaN   \n",
            "4                 NaN                  NaN                      NaN   \n",
            "\n",
            "   half_end_early_video_end  \n",
            "0                       NaN  \n",
            "1                       NaN  \n",
            "2                       NaN  \n",
            "3                       NaN  \n",
            "4                       NaN  \n",
            "\n",
            "[5 rows x 119 columns]\n"
          ]
        }
      ]
    },
    {
      "cell_type": "markdown",
      "source": [
        "##Cleaning Data/Feature Engineering\n"
      ],
      "metadata": {
        "id": "BtNl79KkrFMg"
      },
      "id": "BtNl79KkrFMg"
    },
    {
      "metadata": {
        "ExecuteTime": {
          "end_time": "2025-01-28T13:56:30.756835Z",
          "start_time": "2025-01-28T13:56:30.753824Z"
        },
        "colab": {
          "base_uri": "https://localhost:8080/"
        },
        "collapsed": true,
        "id": "d3d9f1304d27e642",
        "outputId": "831c4c71-da3d-42ac-a7ef-9c123e953d70"
      },
      "cell_type": "code",
      "source": [
        "\n",
        "print(f\"Total shots: {df_shots.shape[0]}\")\n",
        "print(\"Columns available:\")\n",
        "print(df_shots.columns.tolist())\n",
        "print(\"\\nFirst few rows:\")\n",
        "print(df_shots[['minute', 'second', 'location', 'shot_body_part', 'shot_technique',\n",
        "                'shot_type', 'shot_first_time', 'shot_one_on_one', 'shot_outcome']].head())\n",
        "print(\"\\nMissing values in key columns:\")\n",
        "print(df_shots[['minute', 'second', 'location', 'shot_body_part', 'shot_technique',\n",
        "                'shot_type', 'shot_first_time', 'shot_one_on_one', 'shot_outcome']].isna().sum())"
      ],
      "id": "d3d9f1304d27e642",
      "outputs": [
        {
          "output_type": "stream",
          "name": "stdout",
          "text": [
            "Total shots: 1918\n",
            "Columns available:\n",
            "['50_50', 'ball_receipt_outcome', 'ball_recovery_recovery_failure', 'block_deflection', 'block_offensive', 'carry_end_location', 'clearance_aerial_won', 'clearance_body_part', 'clearance_head', 'clearance_left_foot', 'clearance_right_foot', 'counterpress', 'dribble_nutmeg', 'dribble_outcome', 'duel_outcome', 'duel_type', 'duration', 'foul_committed_advantage', 'foul_committed_card', 'foul_committed_type', 'foul_won_advantage', 'foul_won_defensive', 'goalkeeper_body_part', 'goalkeeper_end_location', 'goalkeeper_outcome', 'goalkeeper_position', 'goalkeeper_punched_out', 'goalkeeper_technique', 'goalkeeper_type', 'id', 'index', 'interception_outcome', 'location', 'match_id', 'minute', 'off_camera', 'out', 'pass_aerial_won', 'pass_angle', 'pass_assisted_shot_id', 'pass_body_part', 'pass_cross', 'pass_cut_back', 'pass_deflected', 'pass_end_location', 'pass_goal_assist', 'pass_height', 'pass_inswinging', 'pass_length', 'pass_miscommunication', 'pass_no_touch', 'pass_outcome', 'pass_outswinging', 'pass_recipient', 'pass_recipient_id', 'pass_shot_assist', 'pass_straight', 'pass_switch', 'pass_technique', 'pass_through_ball', 'pass_type', 'period', 'play_pattern', 'player', 'player_id', 'position', 'possession', 'possession_team', 'possession_team_id', 'related_events', 'second', 'shot_aerial_won', 'shot_body_part', 'shot_end_location', 'shot_first_time', 'shot_freeze_frame', 'shot_key_pass_id', 'shot_one_on_one', 'shot_open_goal', 'shot_outcome', 'shot_statsbomb_xg', 'shot_technique', 'shot_type', 'substitution_outcome', 'substitution_outcome_id', 'substitution_replacement', 'substitution_replacement_id', 'tactics', 'team', 'team_id', 'timestamp', 'type', 'under_pressure', 'competition_name', 'season_name', 'dribble_overrun', 'injury_stoppage_in_chain', 'clearance_other', 'goalkeeper_shot_saved_off_target', 'shot_deflected', 'shot_saved_off_target', 'foul_committed_offensive', 'foul_committed_penalty', 'foul_won_penalty', 'miscontrol_aerial_won', 'shot_redirect', 'ball_recovery_offensive', 'block_save_block', 'goalkeeper_success_in_play', 'bad_behaviour_card', 'dribble_no_touch', 'shot_follows_dribble', 'goalkeeper_saved_to_post', 'half_start_late_video_start', 'goalkeeper_shot_saved_to_post', 'shot_saved_to_post', 'goalkeeper_lost_out', 'goalkeeper_lost_in_play', 'half_end_early_video_end']\n",
            "\n",
            "First few rows:\n",
            "   minute  second       location shot_body_part shot_technique  shot_type  \\\n",
            "0       1      27  [100.6, 54.6]      Left Foot         Normal  Open Play   \n",
            "1       5      21  [109.4, 43.0]           Head         Normal  Open Play   \n",
            "2       6      57   [95.6, 38.9]     Right Foot         Normal  Open Play   \n",
            "3      10       6   [95.6, 44.6]     Right Foot         Normal  Open Play   \n",
            "4      14      50  [111.0, 33.7]      Left Foot    Half Volley  Open Play   \n",
            "\n",
            "  shot_first_time shot_one_on_one shot_outcome  \n",
            "0             NaN             NaN      Blocked  \n",
            "1             NaN             NaN      Wayward  \n",
            "2             NaN             NaN      Blocked  \n",
            "3             NaN             NaN        Off T  \n",
            "4            True             NaN        Off T  \n",
            "\n",
            "Missing values in key columns:\n",
            "minute                0\n",
            "second                0\n",
            "location              0\n",
            "shot_body_part        0\n",
            "shot_technique        0\n",
            "shot_type             0\n",
            "shot_first_time    1286\n",
            "shot_one_on_one    1834\n",
            "shot_outcome          0\n",
            "dtype: int64\n"
          ]
        }
      ],
      "execution_count": null
    },
    {
      "cell_type": "code",
      "source": [
        "print(f\"Initial shots: {df_shots.shape[0]}\")\n",
        "\n",
        "# Derive location-based features\n",
        "df_shots['x'] = df_shots['location'].apply(lambda loc: eval(loc)[0] if isinstance(loc, str) else loc[0])\n",
        "df_shots['y'] = df_shots['location'].apply(lambda loc: eval(loc)[1] if isinstance(loc, str) else loc[1])\n",
        "\n",
        "# Normalize to 0-100 scale\n",
        "df_shots['x'] = df_shots['x'] / 1.2\n",
        "df_shots['y'] = df_shots['y'] / 0.8\n",
        "goal_x, goal_y = 100, 50\n",
        "\n",
        "# Derive distance and angle\n",
        "df_shots['distance'] = np.sqrt((goal_x - df_shots['x'])**2 + (goal_y - df_shots['y'])**2)\n",
        "df_shots['angle'] = np.degrees(np.arctan2(np.abs(goal_y - df_shots['y']), (goal_x - df_shots['x'])))\n",
        "\n",
        "# Create is_goal\n",
        "df_shots['is_goal'] = df_shots['shot_outcome'] == 'Goal'\n",
        "\n",
        "# Create assisted (fixed: use shot_key_pass_id)\n",
        "df_shots['assisted'] = df_shots['shot_key_pass_id'].notna()\n",
        "\n",
        "# Handle missing values\n",
        "df_shots['first_time'] = df_shots['shot_first_time'].fillna(False)\n",
        "df_shots['one_on_one'] = df_shots['shot_one_on_one'].fillna(False)\n",
        "\n",
        "# Drop rows with missing critical features\n",
        "df_shots.dropna(subset=['x', 'y', 'shot_body_part', 'shot_technique', 'shot_type'], inplace=True)\n",
        "\n",
        "# Filter out own goals\n",
        "df_shots = df_shots[df_shots['shot_outcome'] != 'Own Goal']\n",
        "\n",
        "# Check distributions\n",
        "print(\"Shot type counts (proportion):\")\n",
        "print(df_shots['shot_type'].value_counts(normalize=True))\n",
        "print(\"\\nAssisted check (non-NaN counts):\")\n",
        "print(df_shots[['shot_key_pass_id']].notna().sum())\n",
        "\n",
        "# Keep desired columns (removed rebound)\n",
        "keep_cols = ['minute', 'second', 'x', 'y', 'distance', 'angle', 'shot_body_part',\n",
        "             'shot_technique', 'shot_type', 'assisted', 'first_time', 'one_on_one',\n",
        "             'is_goal', 'competition_name', 'season_name']\n",
        "df_shots = df_shots[keep_cols]\n",
        "\n",
        "# Final checks\n",
        "print(f\"\\nCleaned data shape: {df_shots.shape}\")\n",
        "print(\"\\nMissing values after cleaning:\")\n",
        "print(df_shots.isna().sum())\n",
        "print(\"\\nFeature distributions:\")\n",
        "print(df_shots['shot_body_part'].value_counts(dropna=False))\n",
        "print(df_shots['shot_technique'].value_counts(dropna=False))\n",
        "print(df_shots['shot_type'].value_counts(dropna=False))\n",
        "print(df_shots['assisted'].value_counts(dropna=False))\n",
        "print(df_shots['first_time'].value_counts(dropna=False))\n",
        "print(df_shots['one_on_one'].value_counts(dropna=False))\n",
        "print(\"\\nPreview cleaned data:\")\n",
        "print(df_shots.head())\n",
        "\n",
        "# Save cleaned data\n",
        "df_shots.to_csv('womens_shots_cleaned.csv', index=False)"
      ],
      "metadata": {
        "colab": {
          "base_uri": "https://localhost:8080/"
        },
        "collapsed": true,
        "id": "XF6yLplixkZu",
        "outputId": "181141ab-da44-4c67-c640-98f6a934802f"
      },
      "id": "XF6yLplixkZu",
      "execution_count": null,
      "outputs": [
        {
          "output_type": "stream",
          "name": "stdout",
          "text": [
            "Initial shots: 1918\n",
            "Shot type counts (proportion):\n",
            "shot_type\n",
            "Open Play    0.956204\n",
            "Free Kick    0.029718\n",
            "Penalty      0.014077\n",
            "Name: proportion, dtype: float64\n",
            "\n",
            "Assisted check (non-NaN counts):\n",
            "shot_key_pass_id    1306\n",
            "dtype: int64\n",
            "\n",
            "Cleaned data shape: (1918, 15)\n",
            "\n",
            "Missing values after cleaning:\n",
            "minute              0\n",
            "second              0\n",
            "x                   0\n",
            "y                   0\n",
            "distance            0\n",
            "angle               0\n",
            "shot_body_part      0\n",
            "shot_technique      0\n",
            "shot_type           0\n",
            "assisted            0\n",
            "first_time          0\n",
            "one_on_one          0\n",
            "is_goal             0\n",
            "competition_name    0\n",
            "season_name         0\n",
            "dtype: int64\n",
            "\n",
            "Feature distributions:\n",
            "shot_body_part\n",
            "Right Foot    1115\n",
            "Left Foot      483\n",
            "Head           317\n",
            "Other            3\n",
            "Name: count, dtype: int64\n",
            "shot_technique\n",
            "Normal           1529\n",
            "Half Volley       246\n",
            "Volley            114\n",
            "Backheel           10\n",
            "Lob                10\n",
            "Diving Header       7\n",
            "Overhead Kick       2\n",
            "Name: count, dtype: int64\n",
            "shot_type\n",
            "Open Play    1834\n",
            "Free Kick      57\n",
            "Penalty        27\n",
            "Name: count, dtype: int64\n",
            "assisted\n",
            "True     1306\n",
            "False     612\n",
            "Name: count, dtype: int64\n",
            "first_time\n",
            "False    1286\n",
            "True      632\n",
            "Name: count, dtype: int64\n",
            "one_on_one\n",
            "False    1834\n",
            "True       84\n",
            "Name: count, dtype: int64\n",
            "\n",
            "Preview cleaned data:\n",
            "   minute  second          x       y   distance      angle shot_body_part  \\\n",
            "0       1      27  83.833333  68.250  24.380804  48.464041      Left Foot   \n",
            "1       5      21  91.166667  53.750   9.596368  23.002597           Head   \n",
            "2       6      57  79.666667  48.625  20.379771   3.868620     Right Foot   \n",
            "3      10       6  79.666667  55.750  21.130711  15.790207     Right Foot   \n",
            "4      14      50  92.500000  42.125  10.875000  46.397181      Left Foot   \n",
            "\n",
            "  shot_technique  shot_type  assisted  first_time  one_on_one  is_goal  \\\n",
            "0         Normal  Open Play      True       False       False    False   \n",
            "1         Normal  Open Play      True       False       False    False   \n",
            "2         Normal  Open Play      True       False       False    False   \n",
            "3         Normal  Open Play      True       False       False    False   \n",
            "4    Half Volley  Open Play      True        True       False    False   \n",
            "\n",
            "          competition_name season_name  \n",
            "0  FA Women's Super League   2020/2021  \n",
            "1  FA Women's Super League   2020/2021  \n",
            "2  FA Women's Super League   2020/2021  \n",
            "3  FA Women's Super League   2020/2021  \n",
            "4  FA Women's Super League   2020/2021  \n"
          ]
        },
        {
          "output_type": "stream",
          "name": "stderr",
          "text": [
            "/tmp/ipython-input-2130813801.py:23: FutureWarning: Downcasting object dtype arrays on .fillna, .ffill, .bfill is deprecated and will change in a future version. Call result.infer_objects(copy=False) instead. To opt-in to the future behavior, set `pd.set_option('future.no_silent_downcasting', True)`\n",
            "  df_shots['first_time'] = df_shots['shot_first_time'].fillna(False)\n",
            "/tmp/ipython-input-2130813801.py:24: FutureWarning: Downcasting object dtype arrays on .fillna, .ffill, .bfill is deprecated and will change in a future version. Call result.infer_objects(copy=False) instead. To opt-in to the future behavior, set `pd.set_option('future.no_silent_downcasting', True)`\n",
            "  df_shots['one_on_one'] = df_shots['shot_one_on_one'].fillna(False)\n"
          ]
        }
      ]
    },
    {
      "metadata": {
        "ExecuteTime": {
          "end_time": "2025-01-28T13:56:49.975264Z",
          "start_time": "2025-01-28T13:56:49.607560Z"
        },
        "colab": {
          "base_uri": "https://localhost:8080/",
          "height": 829
        },
        "id": "5de4fc09b0cd60d4",
        "outputId": "18463de2-2fed-4e09-eb82-28350bed96b8"
      },
      "cell_type": "code",
      "source": [
        "import pandas as pd\n",
        "import matplotlib.pyplot as plt\n",
        "from mplsoccer import Pitch\n",
        "\n",
        "# Load cleaned data\n",
        "df_shots = pd.read_csv('womens_shots_cleaned.csv')\n",
        "\n",
        "# Set up the pitch\n",
        "pitch = Pitch(pitch_type='custom', pitch_length=100, pitch_width=100, line_color='white', pitch_color='green')\n",
        "fig, ax = pitch.draw(figsize=(8, 10))\n",
        "\n",
        "# Scatter plot: goals (blue) and non-goals (red)\n",
        "goals = df_shots[df_shots['is_goal'] == True]\n",
        "non_goals = df_shots[df_shots['is_goal'] == False]\n",
        "pitch.scatter(non_goals['x'], non_goals['y'], ax=ax, c='red', label='Non-Goals', s=25, alpha=0.7)\n",
        "pitch.scatter(goals['x'], goals['y'], ax=ax, c='blue', label='Goals', s=50, alpha=0.7)\n",
        "\n",
        "# Add legend and title\n",
        "plt.legend()\n",
        "plt.title('Shot Locations: Goals vs. Non-Goals')\n",
        "plt.show()"
      ],
      "id": "5de4fc09b0cd60d4",
      "outputs": [
        {
          "output_type": "display_data",
          "data": {
            "text/plain": [
              "<Figure size 800x1000 with 1 Axes>"
            ],
            "image/png": "[encoded data removed]"
          },
          "metadata": {}
        }
      ],
      "execution_count": null
    },
    {
      "metadata": {
        "id": "b7561fb68779ed71"
      },
      "cell_type": "markdown",
      "source": [
        "### Model Building"
      ],
      "id": "b7561fb68779ed71"
    },
    {
      "metadata": {
        "ExecuteTime": {
          "end_time": "2025-01-28T13:57:02.052452Z",
          "start_time": "2025-01-28T13:57:02.048311Z"
        },
        "colab": {
          "base_uri": "https://localhost:8080/"
        },
        "collapsed": true,
        "id": "25bceeb15689afc4",
        "outputId": "22354f2a-0767-405d-ce1d-bcc4c0a8aa0f"
      },
      "cell_type": "code",
      "source": [
        "# Load the cleaned CSV\n",
        "df = pd.read_csv('womens_shots_cleaned.csv')\n",
        "\n",
        "# Verify shape and columns\n",
        "print(f\"Shape: {df.shape}\")\n",
        "print(\"Columns:\", df.columns.tolist())\n",
        "\n",
        "# Check data types and non-null counts\n",
        "print(\"\\nData Info:\")\n",
        "print(df.info())\n",
        "\n",
        "# Basic stats for numerical features\n",
        "print(\"\\nNumerical Stats:\")\n",
        "print(df[['distance', 'angle', 'minute', 'second']].describe())\n",
        "\n",
        "# Check for any missing values\n",
        "print(\"\\nMissing Values:\")\n",
        "print(df.isna().sum())\n",
        "\n",
        "# Preview first few rows\n",
        "print(\"\\nHead:\")\n",
        "print(df.head())"
      ],
      "id": "25bceeb15689afc4",
      "outputs": [
        {
          "output_type": "stream",
          "name": "stdout",
          "text": [
            "Shape: (1918, 15)\n",
            "Columns: ['minute', 'second', 'x', 'y', 'distance', 'angle', 'shot_body_part', 'shot_technique', 'shot_type', 'assisted', 'first_time', 'one_on_one', 'is_goal', 'competition_name', 'season_name']\n",
            "\n",
            "Data Info:\n",
            "<class 'pandas.core.frame.DataFrame'>\n",
            "RangeIndex: 1918 entries, 0 to 1917\n",
            "Data columns (total 15 columns):\n",
            " #   Column            Non-Null Count  Dtype  \n",
            "---  ------            --------------  -----  \n",
            " 0   minute            1918 non-null   int64  \n",
            " 1   second            1918 non-null   int64  \n",
            " 2   x                 1918 non-null   float64\n",
            " 3   y                 1918 non-null   float64\n",
            " 4   distance          1918 non-null   float64\n",
            " 5   angle             1918 non-null   float64\n",
            " 6   shot_body_part    1918 non-null   object \n",
            " 7   shot_technique    1918 non-null   object \n",
            " 8   shot_type         1918 non-null   object \n",
            " 9   assisted          1918 non-null   bool   \n",
            " 10  first_time        1918 non-null   bool   \n",
            " 11  one_on_one        1918 non-null   bool   \n",
            " 12  is_goal           1918 non-null   bool   \n",
            " 13  competition_name  1918 non-null   object \n",
            " 14  season_name       1918 non-null   object \n",
            "dtypes: bool(4), float64(4), int64(2), object(5)\n",
            "memory usage: 172.4+ KB\n",
            "None\n",
            "\n",
            "Numerical Stats:\n",
            "          distance        angle       minute       second\n",
            "count  1918.000000  1918.000000  1918.000000  1918.000000\n",
            "mean     16.744306    34.469073    47.697080    28.799791\n",
            "std       7.718349    20.417666    26.918248    17.504260\n",
            "min       1.118034     0.000000     0.000000     0.000000\n",
            "25%      10.323562    17.684919    25.000000    13.000000\n",
            "50%      16.266038    34.365239    48.000000    29.000000\n",
            "75%      22.128893    50.725105    70.000000    44.000000\n",
            "max      56.333472    90.000000    99.000000    59.000000\n",
            "\n",
            "Missing Values:\n",
            "minute              0\n",
            "second              0\n",
            "x                   0\n",
            "y                   0\n",
            "distance            0\n",
            "angle               0\n",
            "shot_body_part      0\n",
            "shot_technique      0\n",
            "shot_type           0\n",
            "assisted            0\n",
            "first_time          0\n",
            "one_on_one          0\n",
            "is_goal             0\n",
            "competition_name    0\n",
            "season_name         0\n",
            "dtype: int64\n",
            "\n",
            "Head:\n",
            "   minute  second          x       y   distance      angle shot_body_part  \\\n",
            "0       1      27  83.833333  68.250  24.380804  48.464041      Left Foot   \n",
            "1       5      21  91.166667  53.750   9.596368  23.002597           Head   \n",
            "2       6      57  79.666667  48.625  20.379771   3.868620     Right Foot   \n",
            "3      10       6  79.666667  55.750  21.130711  15.790207     Right Foot   \n",
            "4      14      50  92.500000  42.125  10.875000  46.397181      Left Foot   \n",
            "\n",
            "  shot_technique  shot_type  assisted  first_time  one_on_one  is_goal  \\\n",
            "0         Normal  Open Play      True       False       False    False   \n",
            "1         Normal  Open Play      True       False       False    False   \n",
            "2         Normal  Open Play      True       False       False    False   \n",
            "3         Normal  Open Play      True       False       False    False   \n",
            "4    Half Volley  Open Play      True        True       False    False   \n",
            "\n",
            "          competition_name season_name  \n",
            "0  FA Women's Super League   2020/2021  \n",
            "1  FA Women's Super League   2020/2021  \n",
            "2  FA Women's Super League   2020/2021  \n",
            "3  FA Women's Super League   2020/2021  \n",
            "4  FA Women's Super League   2020/2021  \n"
          ]
        }
      ],
      "execution_count": null
    },
    {
      "metadata": {
        "colab": {
          "base_uri": "https://localhost:8080/"
        },
        "collapsed": true,
        "id": "bbbf723d971ab13b",
        "outputId": "dd0142d5-b49b-4a1f-a41a-cbe186250e16"
      },
      "cell_type": "code",
      "outputs": [
        {
          "output_type": "stream",
          "name": "stdout",
          "text": [
            "Numerical Feature Stats:\n",
            "          distance        angle\n",
            "count  1918.000000  1918.000000\n",
            "mean     16.744306    34.469073\n",
            "std       7.718349    20.417666\n",
            "min       1.118034     0.000000\n",
            "25%      10.323562    17.684919\n",
            "50%      16.266038    34.365239\n",
            "75%      22.128893    50.725105\n",
            "max      56.333472    90.000000\n",
            "\n",
            "X Data Info:\n",
            "<class 'pandas.core.frame.DataFrame'>\n",
            "RangeIndex: 1918 entries, 0 to 1917\n",
            "Data columns (total 14 columns):\n",
            " #   Column                        Non-Null Count  Dtype  \n",
            "---  ------                        --------------  -----  \n",
            " 0   distance                      1918 non-null   float64\n",
            " 1   angle                         1918 non-null   float64\n",
            " 2   assisted                      1918 non-null   bool   \n",
            " 3   first_time                    1918 non-null   bool   \n",
            " 4   one_on_one                    1918 non-null   bool   \n",
            " 5   shot_body_part_Left Foot      1918 non-null   bool   \n",
            " 6   shot_body_part_Other          1918 non-null   bool   \n",
            " 7   shot_body_part_Right Foot     1918 non-null   bool   \n",
            " 8   shot_technique_Diving Header  1918 non-null   bool   \n",
            " 9   shot_technique_Half Volley    1918 non-null   bool   \n",
            " 10  shot_technique_Lob            1918 non-null   bool   \n",
            " 11  shot_technique_Normal         1918 non-null   bool   \n",
            " 12  shot_technique_Overhead Kick  1918 non-null   bool   \n",
            " 13  shot_technique_Volley         1918 non-null   bool   \n",
            "dtypes: bool(12), float64(2)\n",
            "memory usage: 52.6 KB\n",
            "None\n",
            "\n",
            "X Head:\n",
            "    distance      angle  assisted  first_time  one_on_one  \\\n",
            "0  24.380804  48.464041      True       False       False   \n",
            "1   9.596368  23.002597      True       False       False   \n",
            "2  20.379771   3.868620      True       False       False   \n",
            "3  21.130711  15.790207      True       False       False   \n",
            "4  10.875000  46.397181      True        True       False   \n",
            "\n",
            "   shot_body_part_Left Foot  shot_body_part_Other  shot_body_part_Right Foot  \\\n",
            "0                      True                 False                      False   \n",
            "1                     False                 False                      False   \n",
            "2                     False                 False                       True   \n",
            "3                     False                 False                       True   \n",
            "4                      True                 False                      False   \n",
            "\n",
            "   shot_technique_Diving Header  shot_technique_Half Volley  \\\n",
            "0                         False                       False   \n",
            "1                         False                       False   \n",
            "2                         False                       False   \n",
            "3                         False                       False   \n",
            "4                         False                        True   \n",
            "\n",
            "   shot_technique_Lob  shot_technique_Normal  shot_technique_Overhead Kick  \\\n",
            "0               False                   True                         False   \n",
            "1               False                   True                         False   \n",
            "2               False                   True                         False   \n",
            "3               False                   True                         False   \n",
            "4               False                  False                         False   \n",
            "\n",
            "   shot_technique_Volley  \n",
            "0                  False  \n",
            "1                  False  \n",
            "2                  False  \n",
            "3                  False  \n",
            "4                  False  \n",
            "\n",
            "X Shape: (1918, 14)\n",
            "\n",
            "y Head:\n",
            "0    0\n",
            "1    0\n",
            "2    0\n",
            "3    0\n",
            "4    0\n",
            "Name: is_goal, dtype: int64\n",
            "\n",
            "y Shape: (1918,)\n",
            "\n",
            "Target Distribution:\n",
            "is_goal\n",
            "0    0.876434\n",
            "1    0.123566\n",
            "Name: proportion, dtype: float64\n"
          ]
        }
      ],
      "execution_count": null,
      "source": [
        "# Load cleaned data\n",
        "df = pd.read_csv('womens_shots_cleaned.csv')\n",
        "\n",
        "# Select model features\n",
        "model_features = ['distance', 'angle', 'shot_body_part', 'shot_technique', 'assisted', 'first_time', 'one_on_one']\n",
        "X = df[model_features]\n",
        "y = df['is_goal'].astype(int)  # Ensure target is 0/1\n",
        "\n",
        "# One-hot encode categoricals\n",
        "X = pd.get_dummies(X, columns=['shot_body_part', 'shot_technique'], drop_first=True)\n",
        "\n",
        "# Check for outliers in numerical features\n",
        "print(\"Numerical Feature Stats:\")\n",
        "print(X[['distance', 'angle']].describe())\n",
        "\n",
        "# Check data types\n",
        "print(\"\\nX Data Info:\")\n",
        "print(X.info())\n",
        "\n",
        "# Preview feature matrix and target\n",
        "print(\"\\nX Head:\")\n",
        "print(X.head())\n",
        "print(\"\\nX Shape:\", X.shape)\n",
        "print(\"\\ny Head:\")\n",
        "print(y.head())\n",
        "print(\"\\ny Shape:\", y.shape)\n",
        "\n",
        "# Check target distribution\n",
        "print(\"\\nTarget Distribution:\")\n",
        "print(y.value_counts(normalize=True))"
      ],
      "id": "bbbf723d971ab13b"
    },
    {
      "cell_type": "code",
      "source": [
        "from sklearn.model_selection import train_test_split\n",
        "\n",
        "# Assuming X and y from previous step\n",
        "# Split data: 80% train, 20% test\n",
        "X_train, X_test, y_train, y_test = train_test_split(X, y, test_size=0.2, random_state=42, stratify=y)\n",
        "\n",
        "# Check split sizes\n",
        "print(\"Training set shape:\", X_train.shape, y_train.shape)\n",
        "print(\"Test set shape:\", X_test.shape, y_test.shape)\n",
        "\n",
        "# Check goal distribution in train/test\n",
        "print(\"\\nTraining goal distribution:\")\n",
        "print(y_train.value_counts(normalize=True))\n",
        "print(\"\\nTest goal distribution:\")\n",
        "print(y_test.value_counts(normalize=True))"
      ],
      "metadata": {
        "colab": {
          "base_uri": "https://localhost:8080/"
        },
        "id": "QNcXUFv72ImJ",
        "outputId": "e8c990da-ae77-461b-c2d2-0b13a52b969d"
      },
      "id": "QNcXUFv72ImJ",
      "execution_count": null,
      "outputs": [
        {
          "output_type": "stream",
          "name": "stdout",
          "text": [
            "Training set shape: (1534, 14) (1534,)\n",
            "Test set shape: (384, 14) (384,)\n",
            "\n",
            "Training goal distribution:\n",
            "is_goal\n",
            "0    0.876141\n",
            "1    0.123859\n",
            "Name: proportion, dtype: float64\n",
            "\n",
            "Test goal distribution:\n",
            "is_goal\n",
            "0    0.877604\n",
            "1    0.122396\n",
            "Name: proportion, dtype: float64\n"
          ]
        }
      ]
    },
    {
      "cell_type": "code",
      "source": [
        "from sklearn.linear_model import LogisticRegression\n",
        "from sklearn.model_selection import GridSearchCV\n",
        "from sklearn.metrics import roc_auc_score, log_loss, brier_score_loss, classification_report\n",
        "\n",
        "# Assuming X_train, X_test, y_train, y_test from previous step\n",
        "# Define parameter grid (simplified to avoid convergence issues)\n",
        "param_grid = {\n",
        "    'penalty': ['l1', 'l2'],\n",
        "    'C': [0.01, 0.1, 1, 10],\n",
        "    'max_iter': [100, 500],\n",
        "    'class_weight': ['balanced', None],\n",
        "    'solver': ['liblinear']\n",
        "}\n",
        "\n",
        "# Set up model and grid search\n",
        "model = LogisticRegression()\n",
        "grid_search = GridSearchCV(model, param_grid, scoring='roc_auc', cv=3, verbose=1, n_jobs=-1)\n",
        "\n",
        "# Fit model\n",
        "grid_search.fit(X_train, y_train)\n",
        "\n",
        "# Results\n",
        "print(\"Best Parameters:\", grid_search.best_params_)\n",
        "print(\"Best ROC AUC (CV):\", grid_search.best_score_)\n",
        "\n",
        "# Evaluate on test set\n",
        "best_model = grid_search.best_estimator_\n",
        "y_pred_proba = best_model.predict_proba(X_test)[:, 1]\n",
        "print(\"\\nTest ROC AUC:\", roc_auc_score(y_test, y_pred_proba))\n",
        "print(\"Test Log Loss:\", log_loss(y_test, y_pred_proba))\n",
        "print(\"Test Brier Score:\", brier_score_loss(y_test, y_pred_proba))\n",
        "print(\"\\nClassification Report:\")\n",
        "print(classification_report(y_test, (y_pred_proba > 0.5).astype(int)))"
      ],
      "metadata": {
        "colab": {
          "base_uri": "https://localhost:8080/"
        },
        "id": "oBGeo8FU22Dp",
        "outputId": "9a41bfb7-f11d-44c9-e5dd-9a385aaa0ca4"
      },
      "id": "oBGeo8FU22Dp",
      "execution_count": null,
      "outputs": [
        {
          "output_type": "stream",
          "name": "stdout",
          "text": [
            "Fitting 3 folds for each of 32 candidates, totalling 96 fits\n",
            "Best Parameters: {'C': 10, 'class_weight': None, 'max_iter': 100, 'penalty': 'l2', 'solver': 'liblinear'}\n",
            "Best ROC AUC (CV): 0.7807070962065382\n",
            "\n",
            "Test ROC AUC: 0.6799040343456026\n",
            "Test Log Loss: 0.3646184777758699\n",
            "Test Brier Score: 0.10159493109760398\n",
            "\n",
            "Classification Report:\n",
            "              precision    recall  f1-score   support\n",
            "\n",
            "           0       0.88      0.99      0.93       337\n",
            "           1       0.43      0.06      0.11        47\n",
            "\n",
            "    accuracy                           0.88       384\n",
            "   macro avg       0.66      0.53      0.52       384\n",
            "weighted avg       0.83      0.88      0.83       384\n",
            "\n"
          ]
        }
      ]
    },
    {
      "cell_type": "code",
      "source": [
        "import pandas as pd\n",
        "import joblib\n",
        "from sklearn.linear_model import LogisticRegression\n",
        "\n",
        "# Load cleaned data\n",
        "df = pd.read_csv('womens_shots_cleaned.csv')\n",
        "\n",
        "# Assuming X, y from feature engineering (recreate for model input)\n",
        "model_features = ['distance', 'angle', 'shot_body_part', 'shot_technique', 'assisted', 'first_time', 'one_on_one']\n",
        "X = pd.get_dummies(df[model_features], columns=['shot_body_part', 'shot_technique'], drop_first=True)\n",
        "\n",
        "# Save the trained model (from previous step)\n",
        "joblib.dump(grid_search.best_estimator_, 'xg_model_womens.pkl')\n",
        "\n",
        "# Load the model\n",
        "model = joblib.load('xg_model_womens.pkl')\n",
        "\n",
        "# Select sample shots (e.g., first goal, first non-goal, a penalty)\n",
        "sample_indices = [\n",
        "    df[df['is_goal'] == True].index[0],  # First goal\n",
        "    df[df['is_goal'] == False].index[0],  # First non-goal\n",
        "    df[df['is_goal'] == True].index[1],\n",
        "    df[df['is_goal'] == False].index[1],\n",
        "    df[df['one_on_one'] == True].index[0],\n",
        "]\n",
        "\n",
        "# Predict xG for samples\n",
        "sample_X = X.loc[sample_indices]\n",
        "xG = model.predict_proba(sample_X)[:, 1]  # Probability of goal (xG)\n",
        "\n",
        "# Show full rows and xG\n",
        "print(\"Sample Shots with xG:\")\n",
        "sample_df = df.loc[sample_indices].copy()\n",
        "sample_df['xG'] = xG\n",
        "print(sample_df[['minute', 'second', 'x', 'y', 'distance', 'angle', 'shot_body_part',\n",
        "                 'shot_technique', 'shot_type', 'assisted', 'first_time', 'one_on_one',\n",
        "                 'is_goal', 'xG']])"
      ],
      "metadata": {
        "colab": {
          "base_uri": "https://localhost:8080/"
        },
        "id": "B8ANu-cJ4OgO",
        "outputId": "b667c66e-f27f-4b11-f88e-77c8057186b0"
      },
      "id": "B8ANu-cJ4OgO",
      "execution_count": null,
      "outputs": [
        {
          "output_type": "stream",
          "name": "stdout",
          "text": [
            "Sample Shots with xG:\n",
            "    minute  second          x      y   distance      angle shot_body_part  \\\n",
            "20      57      58  96.583333  49.00   3.560002  16.313852      Left Foot   \n",
            "0        1      27  83.833333  68.25  24.380804  48.464041      Left Foot   \n",
            "23      66       4  92.000000  46.50   8.732125  23.629378      Left Foot   \n",
            "1        5      21  91.166667  53.75   9.596368  23.002597           Head   \n",
            "29      77      13  98.083333  44.00   6.298699  72.284207           Head   \n",
            "\n",
            "   shot_technique  shot_type  assisted  first_time  one_on_one  is_goal  \\\n",
            "20    Half Volley  Open Play      True        True       False     True   \n",
            "0          Normal  Open Play      True       False       False    False   \n",
            "23         Normal  Open Play     False        True       False     True   \n",
            "1          Normal  Open Play      True       False       False    False   \n",
            "29         Normal  Open Play      True       False        True    False   \n",
            "\n",
            "          xG  \n",
            "20  0.503322  \n",
            "0   0.021847  \n",
            "23  0.449193  \n",
            "1   0.087495  \n",
            "29  0.133404  \n"
          ]
        }
      ]
    },
    {
      "cell_type": "markdown",
      "source": [
        "##Apply Model to Stevens Team\n",
        "\n",
        "This code below actually makes all of the stuff above usable for us at Stevens, essentially we can import a csv file of the shot data from a specific game and get the xG for all of the shots in that game based off of the model we trained."
      ],
      "metadata": {
        "id": "cm_vUEfw5g40"
      },
      "id": "cm_vUEfw5g40"
    },
    {
      "cell_type": "code",
      "source": [
        "import pandas as pd\n",
        "import numpy as np\n",
        "import joblib\n",
        "from google.colab import files\n",
        "\n",
        "# Load the trained model\n",
        "model = joblib.load('xg_model_womens.pkl')\n",
        "\n",
        "# Upload your team's CSV\n",
        "input_csv = '/content/drive/My Drive/Stevens Analytics/Soccer/STEV_vs_SLC_shot_data.csv'\n",
        "df_team = pd.read_csv(input_csv)\n",
        "\n",
        "# Derive distance and angle from x, y (0-100 scale)\n",
        "goal_x, goal_y = 100, 50\n",
        "df_team['distance'] = np.sqrt((goal_x - df_team['x'])**2 + (goal_y - df_team['y'])**2)\n",
        "df_team['angle'] = np.degrees(np.arctan2(np.abs(goal_y - df_team['y']), (goal_x - df_team['x'])))\n",
        "\n",
        "# Ensure booleans are proper (True/False or 1/0 → bool)\n",
        "for col in ['assisted', 'first_time', 'one_on_one']:\n",
        "    if col in df_team.columns:\n",
        "        df_team[col] = df_team[col].astype(bool)\n",
        "\n",
        "# Prepare model input (match training features)\n",
        "model_features = ['distance', 'angle', 'shot_body_part', 'shot_technique', 'assisted', 'first_time', 'one_on_one']\n",
        "X_team = df_team[model_features]\n",
        "X_team = pd.get_dummies(X_team, columns=['shot_body_part', 'shot_technique'], drop_first=True)\n",
        "\n",
        "# Align columns with training X (add missing encoded columns with False)\n",
        "training_columns = ['distance', 'angle', 'assisted', 'first_time', 'one_on_one',\n",
        "                    'shot_body_part_Left Foot', 'shot_body_part_Other', 'shot_body_part_Right Foot',\n",
        "                    'shot_technique_Diving Header', 'shot_technique_Half Volley', 'shot_technique_Lob',\n",
        "                    'shot_technique_Normal', 'shot_technique_Overhead Kick', 'shot_technique_Volley']\n",
        "for col in training_columns:\n",
        "    if col not in X_team.columns:\n",
        "        X_team[col] = 0  # Fill missing with 0 (False)\n",
        "\n",
        "X_team = X_team[training_columns]  # Reorder to match training\n",
        "\n",
        "# Predict xG\n",
        "df_team['xG'] = model.predict_proba(X_team)[:, 1]\n",
        "\n",
        "# Save and download output CSV\n",
        "output_csv = 'STEV_vs_SLC_shot_data_xGoals.csv'\n",
        "df_team.to_csv(output_csv, index=False)\n",
        "files.download(output_csv)\n",
        "\n",
        "# Preview first few rows with xG\n",
        "print(\"\\nPreview with xG:\")\n",
        "print(df_team[['minute', 'second', 'x', 'y', 'shot_body_part', 'shot_technique', 'assisted', 'first_time', 'one_on_one', 'xG']].head())"
      ],
      "metadata": {
        "colab": {
          "base_uri": "https://localhost:8080/",
          "height": 277
        },
        "id": "FRIV92JQ5ge6",
        "outputId": "4bfee4ed-c00f-445e-cc9f-6131af5cb0d1"
      },
      "id": "FRIV92JQ5ge6",
      "execution_count": null,
      "outputs": [
        {
          "output_type": "display_data",
          "data": {
            "text/plain": [
              "<IPython.core.display.Javascript object>"
            ],
            "application/javascript": [
              "\n",
              "    async function download(id, filename, size) {\n",
              "      if (!google.colab.kernel.accessAllowed) {\n",
              "        return;\n",
              "      }\n",
              "      const div = document.createElement('div');\n",
              "      const label = document.createElement('label');\n",
              "      label.textContent = `Downloading \"${filename}\": `;\n",
              "      div.appendChild(label);\n",
              "      const progress = document.createElement('progress');\n",
              "      progress.max = size;\n",
              "      div.appendChild(progress);\n",
              "      document.body.appendChild(div);\n",
              "\n",
              "      const buffers = [];\n",
              "      let downloaded = 0;\n",
              "\n",
              "      const channel = await google.colab.kernel.comms.open(id);\n",
              "      // Send a message to notify the kernel that we're ready.\n",
              "      channel.send({})\n",
              "\n",
              "      for await (const message of channel.messages) {\n",
              "        // Send a message to notify the kernel that we're ready.\n",
              "        channel.send({})\n",
              "        if (message.buffers) {\n",
              "          for (const buffer of message.buffers) {\n",
              "            buffers.push(buffer);\n",
              "            downloaded += buffer.byteLength;\n",
              "            progress.value = downloaded;\n",
              "          }\n",
              "        }\n",
              "      }\n",
              "      const blob = new Blob(buffers, {type: 'application/binary'});\n",
              "      const a = document.createElement('a');\n",
              "      a.href = window.URL.createObjectURL(blob);\n",
              "      a.download = filename;\n",
              "      div.appendChild(a);\n",
              "      a.click();\n",
              "      div.remove();\n",
              "    }\n",
              "  "
            ]
          },
          "metadata": {}
        },
        {
          "output_type": "display_data",
          "data": {
            "text/plain": [
              "<IPython.core.display.Javascript object>"
            ],
            "application/javascript": [
              "download(\"download_2d287e41-bf7b-48f4-b81c-8884c7a3b46a\", \"STEV_vs_SLC_shot_data_xGoals.csv\", 1700)"
            ]
          },
          "metadata": {}
        },
        {
          "output_type": "stream",
          "name": "stdout",
          "text": [
            "\n",
            "Preview with xG:\n",
            "   minute  second   x   y shot_body_part shot_technique  assisted  first_time  \\\n",
            "0      92      49  92  59     Right Foot         Normal      True        True   \n",
            "1      48      10  92  57     Right Foot         Normal      True        True   \n",
            "2     109      21  95  49     Right Foot         Normal     False       False   \n",
            "3      71      33  92  42     Right Foot         Normal      True       False   \n",
            "4      34       2  90  42      Left Foot    Half Volley     False        True   \n",
            "\n",
            "   one_on_one        xG  \n",
            "0       False  0.200534  \n",
            "1       False  0.255019  \n",
            "2       False  0.631245  \n",
            "3        True  0.213826  \n",
            "4       False  0.037667  \n"
          ]
        }
      ]
    },
    {
      "cell_type": "markdown",
      "source": [
        "##Creating Spreadsheet template for data collection\n"
      ],
      "metadata": {
        "id": "7WBQaQyc54lc"
      },
      "id": "7WBQaQyc54lc"
    },
    {
      "cell_type": "code",
      "source": [
        "import pandas as pd\n",
        "from google.colab import files\n",
        "\n",
        "# Define template data with all possible shot_body_part, shot_technique, shot_type\n",
        "template_data = {\n",
        "    'minute': [14, 25, 45, 60, 75, 88, 90],\n",
        "    'second': [10, 45, 30, 20, 15, 50, 5],\n",
        "    'x': [85.0, 92.0, 88.0, 70.0, 80.0, 90.0, 95.0],\n",
        "    'y': [45.0, 50.0, 55.0, 60.0, 40.0, 48.0, 52.0],\n",
        "    'shot_body_part': ['Head', 'Right Foot', 'Left Foot', 'Other', 'Right Foot', 'Head', 'Left Foot'],\n",
        "    'shot_technique': ['Normal', 'Half Volley', 'Volley', 'Lob', 'Backheel', 'Diving Header', 'Overhead Kick'],\n",
        "    'assisted': [True, True, False, False, True, True, False],\n",
        "    'first_time': [False, True, False, False, True, False, True],\n",
        "    'one_on_one': [False, False, True, False, False, True, False],\n",
        "    'shot_type': ['Open Play', 'Free Kick', 'Penalty', 'Corner', 'Open Play', 'Open Play', 'Free Kick']\n",
        "}\n",
        "\n",
        "# Create DataFrame\n",
        "template_df = pd.DataFrame(template_data)\n",
        "\n",
        "# Save to CSV and download\n",
        "template_df.to_csv('team_shots_template.csv', index=False)\n",
        "files.download('team_shots_template.csv')\n",
        "\n",
        "# Preview template\n",
        "print(\"Template Preview:\")\n",
        "print(template_df)"
      ],
      "metadata": {
        "colab": {
          "base_uri": "https://localhost:8080/",
          "height": 329
        },
        "id": "bl5TH8WT6xSr",
        "outputId": "7b1244be-9a0f-47c4-ea09-18ad619d0574"
      },
      "id": "bl5TH8WT6xSr",
      "execution_count": null,
      "outputs": [
        {
          "output_type": "display_data",
          "data": {
            "text/plain": [
              "<IPython.core.display.Javascript object>"
            ],
            "application/javascript": [
              "\n",
              "    async function download(id, filename, size) {\n",
              "      if (!google.colab.kernel.accessAllowed) {\n",
              "        return;\n",
              "      }\n",
              "      const div = document.createElement('div');\n",
              "      const label = document.createElement('label');\n",
              "      label.textContent = `Downloading \"${filename}\": `;\n",
              "      div.appendChild(label);\n",
              "      const progress = document.createElement('progress');\n",
              "      progress.max = size;\n",
              "      div.appendChild(progress);\n",
              "      document.body.appendChild(div);\n",
              "\n",
              "      const buffers = [];\n",
              "      let downloaded = 0;\n",
              "\n",
              "      const channel = await google.colab.kernel.comms.open(id);\n",
              "      // Send a message to notify the kernel that we're ready.\n",
              "      channel.send({})\n",
              "\n",
              "      for await (const message of channel.messages) {\n",
              "        // Send a message to notify the kernel that we're ready.\n",
              "        channel.send({})\n",
              "        if (message.buffers) {\n",
              "          for (const buffer of message.buffers) {\n",
              "            buffers.push(buffer);\n",
              "            downloaded += buffer.byteLength;\n",
              "            progress.value = downloaded;\n",
              "          }\n",
              "        }\n",
              "      }\n",
              "      const blob = new Blob(buffers, {type: 'application/binary'});\n",
              "      const a = document.createElement('a');\n",
              "      a.href = window.URL.createObjectURL(blob);\n",
              "      a.download = filename;\n",
              "      div.appendChild(a);\n",
              "      a.click();\n",
              "      div.remove();\n",
              "    }\n",
              "  "
            ]
          },
          "metadata": {}
        },
        {
          "output_type": "display_data",
          "data": {
            "text/plain": [
              "<IPython.core.display.Javascript object>"
            ],
            "application/javascript": [
              "download(\"download_da1c16f7-cdb4-4fef-977b-0e9ff100e341\", \"team_shots_template.csv\", 507)"
            ]
          },
          "metadata": {}
        },
        {
          "output_type": "stream",
          "name": "stdout",
          "text": [
            "Template Preview:\n",
            "   minute  second     x     y shot_body_part shot_technique  assisted  \\\n",
            "0      14      10  85.0  45.0           Head         Normal      True   \n",
            "1      25      45  92.0  50.0     Right Foot    Half Volley      True   \n",
            "2      45      30  88.0  55.0      Left Foot         Volley     False   \n",
            "3      60      20  70.0  60.0          Other            Lob     False   \n",
            "4      75      15  80.0  40.0     Right Foot       Backheel      True   \n",
            "5      88      50  90.0  48.0           Head  Diving Header      True   \n",
            "6      90       5  95.0  52.0      Left Foot  Overhead Kick     False   \n",
            "\n",
            "   first_time  one_on_one  shot_type  \n",
            "0       False       False  Open Play  \n",
            "1        True       False  Free Kick  \n",
            "2       False        True    Penalty  \n",
            "3       False       False     Corner  \n",
            "4        True       False  Open Play  \n",
            "5       False        True  Open Play  \n",
            "6        True       False  Free Kick  \n"
          ]
        }
      ]
    },
    {
      "cell_type": "code",
      "source": [
        "import matplotlib.pyplot as plt\n",
        "from mplsoccer import Pitch\n",
        "from google.colab import files\n",
        "\n",
        "# Set up pitch (0-100 x, 0-100 y, goal at 100,50)\n",
        "pitch = Pitch(pitch_type='custom', pitch_length=100, pitch_width=100, line_color='white', pitch_color='green')\n",
        "fig, ax = pitch.draw(figsize=(12, 8))\n",
        "\n",
        "# Add reference points\n",
        "ax.scatter(100, 50, c='red', s=200, marker='*', label='Goal Center (100,50)')\n",
        "ax.scatter(100, 45, c='orange', s=100, marker='^', label='Goalpost (100,45)')\n",
        "ax.scatter(100, 55, c='red', s=100, marker='^', label='Goalpost (100,55)')\n",
        "ax.scatter(88, 50, c='blue', s=100, marker='o', label='Penalty Spot (88,50)')\n",
        "ax.scatter(83, 30, c='yellow', s=100, marker='s', label='Penalty Area (83,30 & 83,70)')\n",
        "ax.scatter(83, 70, c='yellow', s=100, marker='s')\n",
        "ax.axvline(x=50, c='black', linestyle='--', label='Halfway Line (x=50)')\n",
        "\n",
        "# Add x and y axes with ticks\n",
        "ax.set_xticks(range(0, 101, 10))\n",
        "ax.set_yticks(range(0, 101, 10))\n",
        "ax.set_xticklabels(range(0, 101, 10), fontsize=12, rotation=0)\n",
        "ax.set_yticklabels(range(0, 101, 10), fontsize=12)\n",
        "ax.set_xlabel('x (0=own goal, 100=opponent goal)', fontsize=14, labelpad=10)\n",
        "ax.set_ylabel('y (0=left sideline, 100=right sideline)', fontsize=14, labelpad=10)\n",
        "\n",
        "# Force ticks to show\n",
        "ax.tick_params(axis='both', which='both', length=5, labelsize=12, pad=5)\n",
        "\n",
        "# Add grid for reference\n",
        "ax.grid(True, alpha=0.3, linestyle='--')\n",
        "\n",
        "# Add legend and title\n",
        "plt.legend(fontsize=12, loc='upper left')\n",
        "plt.title('Pitch Diagram for x,y Estimation (0-100 Scale)', fontsize=16)\n",
        "plt.tight_layout()\n",
        "\n",
        "# Save and download\n",
        "plt.savefig('pitch_diagram_with_axes.png', bbox_inches='tight', dpi=300)\n",
        "files.download('pitch_diagram_with_axes.png')\n",
        "plt.show()"
      ],
      "metadata": {
        "colab": {
          "base_uri": "https://localhost:8080/",
          "height": 807
        },
        "id": "PWDI0hUI7Xlu",
        "outputId": "67348495-d0ae-4f7b-87e0-4062f58d55e8"
      },
      "id": "PWDI0hUI7Xlu",
      "execution_count": null,
      "outputs": [
        {
          "output_type": "display_data",
          "data": {
            "text/plain": [
              "<IPython.core.display.Javascript object>"
            ],
            "application/javascript": [
              "\n",
              "    async function download(id, filename, size) {\n",
              "      if (!google.colab.kernel.accessAllowed) {\n",
              "        return;\n",
              "      }\n",
              "      const div = document.createElement('div');\n",
              "      const label = document.createElement('label');\n",
              "      label.textContent = `Downloading \"${filename}\": `;\n",
              "      div.appendChild(label);\n",
              "      const progress = document.createElement('progress');\n",
              "      progress.max = size;\n",
              "      div.appendChild(progress);\n",
              "      document.body.appendChild(div);\n",
              "\n",
              "      const buffers = [];\n",
              "      let downloaded = 0;\n",
              "\n",
              "      const channel = await google.colab.kernel.comms.open(id);\n",
              "      // Send a message to notify the kernel that we're ready.\n",
              "      channel.send({})\n",
              "\n",
              "      for await (const message of channel.messages) {\n",
              "        // Send a message to notify the kernel that we're ready.\n",
              "        channel.send({})\n",
              "        if (message.buffers) {\n",
              "          for (const buffer of message.buffers) {\n",
              "            buffers.push(buffer);\n",
              "            downloaded += buffer.byteLength;\n",
              "            progress.value = downloaded;\n",
              "          }\n",
              "        }\n",
              "      }\n",
              "      const blob = new Blob(buffers, {type: 'application/binary'});\n",
              "      const a = document.createElement('a');\n",
              "      a.href = window.URL.createObjectURL(blob);\n",
              "      a.download = filename;\n",
              "      div.appendChild(a);\n",
              "      a.click();\n",
              "      div.remove();\n",
              "    }\n",
              "  "
            ]
          },
          "metadata": {}
        },
        {
          "output_type": "display_data",
          "data": {
            "text/plain": [
              "<IPython.core.display.Javascript object>"
            ],
            "application/javascript": [
              "download(\"download_76b90277-8d0a-497e-9a30-b8791bf7a1df\", \"pitch_diagram_with_axes.png\", 265549)"
            ]
          },
          "metadata": {}
        },
        {
          "output_type": "display_data",
          "data": {
            "text/plain": [
              "<Figure size 1200x800 with 1 Axes>"
            ],
            "image/png": "[encoded data removed]"
          },
          "metadata": {}
        }
      ]
    }
  ],
  "metadata": {
    "kernelspec": {
      "display_name": "Python 3",
      "language": "python",
      "name": "python3"
    },
    "language_info": {
      "codemirror_mode": {
        "name": "ipython",
        "version": 2
      },
      "file_extension": ".py",
      "mimetype": "text/x-python",
      "name": "python",
      "nbconvert_exporter": "python",
      "pygments_lexer": "ipython2",
      "version": "2.7.6"
    },
    "colab": {
      "provenance": []
    }
  },
  "nbformat": 4,
  "nbformat_minor": 5
}